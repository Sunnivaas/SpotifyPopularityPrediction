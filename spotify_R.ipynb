{
 "cells": [
  {
   "cell_type": "markdown",
   "id": "upper-tenant",
   "metadata": {},
   "source": [
    "### Loading libraries"
   ]
  },
  {
   "cell_type": "code",
   "execution_count": null,
   "id": "fitted-mississippi",
   "metadata": {},
   "outputs": [],
   "source": [
    "library(tidyverse)\n",
    "library(tidymodels)\n",
    "library(gridExtra)"
   ]
  },
  {
   "cell_type": "markdown",
   "id": "agricultural-roulette",
   "metadata": {},
   "source": [
    "### Utility functions"
   ]
  },
  {
   "cell_type": "code",
   "execution_count": null,
   "id": "comparative-compiler",
   "metadata": {},
   "outputs": [],
   "source": [
    "fig <- function(width, heigth){\n",
    "     options(repr.plot.width = width, repr.plot.height = heigth)\n",
    "}"
   ]
  },
  {
   "cell_type": "markdown",
   "id": "looking-citizen",
   "metadata": {},
   "source": [
    "### Loading data"
   ]
  },
  {
   "cell_type": "code",
   "execution_count": null,
   "id": "revolutionary-atmosphere",
   "metadata": {},
   "outputs": [],
   "source": [
    "path <- \"\"\n",
    "\n",
    "names <- read.table(paste(path, \"spotify-names.txt\", sep = \"\"),header = TRUE)\n",
    "songs <- read.table(paste(path, \"spotify-extr.txt\", sep = \"\"),\n",
    "                    sep = \" \", header = TRUE) %>%\n",
    "    as_tibble() %>%\n",
    "    mutate(name = names$x,\n",
    "           key = factor(key),\n",
    "           mode = factor(mode, levels=c(0,1), labels=c('minor', 'major')),\n",
    "           pop.class = factor(pop.class)) %>%\n",
    "    relocate(c(pop.class, popularity)) %>%\n",
    "    relocate(c(key, mode, name), .after=last_col())\n",
    "\n",
    "songs.quant <- songs %>% select(popularity:tempo)\n",
    "\n",
    "head(songs)"
   ]
  },
  {
   "cell_type": "markdown",
   "id": "hindu-bangkok",
   "metadata": {},
   "source": [
    "## Exploratory statistics"
   ]
  },
  {
   "cell_type": "code",
   "execution_count": null,
   "id": "exclusive-pendant",
   "metadata": {},
   "outputs": [],
   "source": [
    "fig(12,8)\n",
    "songs.quant %>%\n",
    "    pivot_longer(cols=everything(), names_to='variable', values_to='value') %>%\n",
    "ggplot() +\n",
    "    geom_histogram(aes(value), fill='#2FD565', color='#000000', bins=30) +\n",
    "    facet_wrap(~variable, scales='free')"
   ]
  },
  {
   "cell_type": "code",
   "execution_count": null,
   "id": "revised-revolution",
   "metadata": {},
   "outputs": [],
   "source": [
    "fig(12,6)\n",
    "songs %>%\n",
    "    filter(popularity > 0) %>%\n",
    "ggplot() +\n",
    "    geom_histogram(aes(popularity), fill='#2FD565', color='#000000', binwidth = 5) +\n",
    "    scale_x_continuous(breaks=seq(0,100, by=10))"
   ]
  },
  {
   "cell_type": "code",
   "execution_count": null,
   "id": "realistic-emphasis",
   "metadata": {},
   "outputs": [],
   "source": [
    "fig(8,6)\n",
    "songs %>%\n",
    "    mutate(log.duration=log(duration)) %>%\n",
    "ggplot() +\n",
    "    geom_histogram(aes(log.duration), fill='#2FD565', color='#000000', bins=50)"
   ]
  },
  {
   "cell_type": "code",
   "execution_count": null,
   "id": "banned-midnight",
   "metadata": {},
   "outputs": [],
   "source": [
    "LOG_DURATION <- FALSE\n",
    "if (!LOG_DURATION) {\n",
    "    songs <- songs %>%\n",
    "        mutate(duration=log(duration))\n",
    "    LOG_DURATION <- TRUE\n",
    "}"
   ]
  },
  {
   "cell_type": "code",
   "execution_count": null,
   "id": "experienced-acceptance",
   "metadata": {},
   "outputs": [],
   "source": [
    "fig(15,10)\n",
    "songs.quant %>%\n",
    "    filter(popularity>0) %>%\n",
    "    mutate(duration=log(duration)) %>%\n",
    "    pivot_longer(cols=!popularity, names_to='variable', values_to='value') %>%\n",
    "ggplot() +\n",
    "    geom_point(aes(value, popularity), size=.7, alpha=.3) + \n",
    "    facet_wrap(~variable, scales='free')"
   ]
  },
  {
   "cell_type": "code",
   "execution_count": null,
   "id": "twenty-campbell",
   "metadata": {},
   "outputs": [],
   "source": [
    "fig(10,8)\n",
    "songs %>%\n",
    "ggplot(aes(year %>% factor(), popularity)) +\n",
    "    geom_boxplot(fill='#2FD565', varwidth = TRUE) +\n",
    "    scale_x_discrete(breaks=seq(1920, 2020, by=10), name='Year') +\n",
    "    labs(y='Popularity') +\n",
    "    theme(text=element_text(size=14))"
   ]
  },
  {
   "cell_type": "code",
   "execution_count": null,
   "id": "enormous-pharmacy",
   "metadata": {},
   "outputs": [],
   "source": [
    "fig(15,10)\n",
    "songs %>%\n",
    "    filter(popularity>0) %>%\n",
    "    mutate(duration=log(duration)) %>%\n",
    "    select(c(pop.class, valence:tempo)) %>%\n",
    "    pivot_longer(cols=!pop.class, names_to='variable', values_to='value') %>%\n",
    "ggplot() +\n",
    "    #geom_jitter(aes(value, pop.class), size=.7, alpha=.3) + \n",
    "    geom_boxplot(aes(value, pop.class)) +\n",
    "    facet_wrap(~variable, scales='free') +\n",
    "    scale_y_discrete(limits=rev)"
   ]
  },
  {
   "cell_type": "code",
   "execution_count": null,
   "id": "composed-packing",
   "metadata": {},
   "outputs": [],
   "source": [
    "library(corrplot)\n",
    "cormat <- cor(songs.quant)\n",
    "corrplot(cormat, method=\"ellipse\", col=colorRampPalette(c(\"blue\", \"white\", \"red\"))(200))"
   ]
  },
  {
   "cell_type": "code",
   "execution_count": null,
   "id": "fresh-south",
   "metadata": {},
   "outputs": [],
   "source": [
    "fig(8,6)\n",
    "songs %>%\n",
    "ggplot() +\n",
    "    geom_boxplot(aes(x=reorder(key, -popularity, FUN=median), y=popularity), fill='#2FD565', color='#000000') +\n",
    "    labs(x='Key', y='Popularity')\n",
    "\n",
    "\n",
    "songs %>%\n",
    "ggplot() +\n",
    "    geom_bar(stat='count', aes(reorder(key, -popularity, FUN=median)), fill='#2FD565', color='#000000') +\n",
    "    labs(x='Key', y='Count')"
   ]
  },
  {
   "cell_type": "code",
   "execution_count": null,
   "id": "prepared-george",
   "metadata": {},
   "outputs": [],
   "source": [
    "fig(8,6)\n",
    "songs %>%\n",
    "ggplot() +\n",
    "    geom_boxplot(aes(mode, popularity), fill='#2FD565', color='#000000') +\n",
    "    labs(x='Mode', y='Popularity')"
   ]
  },
  {
   "cell_type": "code",
   "execution_count": null,
   "id": "fallen-holiday",
   "metadata": {},
   "outputs": [],
   "source": [
    "library(ggmosaic)\n",
    "songs %>%\n",
    "ggplot() +\n",
    "    geom_mosaic(aes(product(mode, key)), fill='#2FD565')"
   ]
  },
  {
   "cell_type": "markdown",
   "id": "reasonable-sphere",
   "metadata": {},
   "source": [
    "## Principal component analysis"
   ]
  },
  {
   "cell_type": "code",
   "execution_count": null,
   "id": "antique-accordance",
   "metadata": {},
   "outputs": [],
   "source": [
    "library(FactoMineR)\n",
    "library(factoextra)\n",
    "res.pca <- songs.quant %>% \n",
    "    select(!popularity) %>% \n",
    "    PCA(ncp=11)"
   ]
  },
  {
   "cell_type": "code",
   "execution_count": null,
   "id": "chubby-correlation",
   "metadata": {
    "scrolled": true
   },
   "outputs": [],
   "source": [
    "fig(12,5)\n",
    "\n",
    "\n",
    "pc_eig <- tibble(pc=c(1:11), eig=res.pca$eig[1:11,2], cumeig=res.pca$eig[1:11,3])\n",
    "g1 <- pc_eig %>%\n",
    "ggplot(aes(pc, eig)) + \n",
    "    geom_bar(stat=\"identity\", fill='#2FD565') +\n",
    "    geom_line() + \n",
    "    geom_point() +\n",
    "    scale_x_continuous(breaks=c(1:11), labels=paste('PC', c(1:11), sep=''), minor_breaks=NULL) +\n",
    "    labs(x='', y='Percentage of variance', title='Percentage of variance by principal component') +\n",
    "    annotate('text', x=c(1:11)+.4, y=pc_eig$eig+1.1, label=paste(round(pc_eig$eig,1), '%', sep='')) +\n",
    "    theme(text=element_text(size=14))\n",
    "\n",
    "g2 <- pc_eig %>%\n",
    "ggplot(aes(pc, cumeig)) + \n",
    "    geom_bar(stat=\"identity\", fill='#2FD565') +\n",
    "    geom_line() + \n",
    "    geom_point() +\n",
    "    scale_x_continuous(breaks=c(1:11), labels=paste('PC', c(1:11), sep=''), minor_breaks=NULL) +\n",
    "    labs(x='', y='Percentage of variance', title='Cumulative percentage of variance') +\n",
    "    #annotate('text', x=c(1:11)-.1, y=pc_eig$cumeig+6, label=paste(round(pc_eig$cumeig,1), '%', sep='')) +\n",
    "    theme(text=element_text(size=14))\n",
    "\n",
    "grid.arrange(g1, g2, nrow=1)"
   ]
  },
  {
   "cell_type": "code",
   "execution_count": null,
   "id": "elect-pension",
   "metadata": {},
   "outputs": [],
   "source": [
    "pc_eig"
   ]
  },
  {
   "cell_type": "code",
   "execution_count": null,
   "id": "correct-electron",
   "metadata": {},
   "outputs": [],
   "source": [
    "fig(8,6)\n",
    "fviz_pca_var(res.pca, col.var=\"contrib\") +\n",
    "    scale_color_gradient(low=\"black\", high=\"green\") +\n",
    "    labs(x='PC1 (31.3%)', y='PC2 (14.9%)', color='Contribution') +\n",
    "    guides(color='none') +\n",
    "    theme_gray() + theme(text=element_text(size=14))"
   ]
  },
  {
   "cell_type": "code",
   "execution_count": null,
   "id": "intermediate-masters",
   "metadata": {},
   "outputs": [],
   "source": [
    "name_func <- function(name) {\n",
    "    paste('PC', substring(name, first=5), sep='')\n",
    "}\n",
    "\n",
    "pca.ind <- as_tibble(res.pca$ind$coord) %>%\n",
    "    rename_with(name_func, everything()) %>%\n",
    "    mutate(pop.class=songs$pop.class)\n",
    "\n",
    "gg_color_hue <- function(n) {\n",
    "  hues = seq(15, 375, length = n + 1)\n",
    "  hcl(h = hues, l = 65, c = 100)[1:n]\n",
    "}\n",
    "colors <- gg_color_hue(4)\n",
    "\n",
    "fig(10,8)\n",
    "ggplot(pca.ind) + \n",
    "    geom_point(aes(x=PC1, y=PC2, color=pop.class), alpha=.5, shape=19) +\n",
    "    scale_x_continuous(limits=c(-6,4)) +\n",
    "    scale_y_continuous(limits=c(-5,5)) +\n",
    "    guides(color = guide_legend(override.aes = list(size = 10))) +\n",
    "    labs(x='PC1 (31.3%)', y='PC2 (14.9%)', color=\"Popularity class\") +\n",
    "    theme(text=element_text(size=14))"
   ]
  },
  {
   "cell_type": "markdown",
   "id": "occasional-banking",
   "metadata": {},
   "source": [
    "# Classification models"
   ]
  },
  {
   "cell_type": "code",
   "execution_count": null,
   "id": "developing-electron",
   "metadata": {},
   "outputs": [],
   "source": [
    "library(rsample)\n",
    "\n",
    "train_ratio <- .8\n",
    "data_split <- songs %>%\n",
    "    initial_split(strata = pop.class, prop = train_ratio)\n",
    "\n",
    "songs_train <- training(data_split) %>%\n",
    "    select(!c(popularity, name))\n",
    "\n",
    "songs_test  <- testing(data_split) %>%\n",
    "    select(!c(popularity, name))"
   ]
  },
  {
   "cell_type": "code",
   "execution_count": null,
   "id": "minor-desire",
   "metadata": {},
   "outputs": [],
   "source": [
    "songs_cv <- rsample::vfold_cv(songs_train, v=10)"
   ]
  },
  {
   "cell_type": "code",
   "execution_count": null,
   "id": "nonprofit-conducting",
   "metadata": {},
   "outputs": [],
   "source": [
    "pop_count <- songs_test %>%\n",
    "    group_by(pop.class) %>%\n",
    "    count() %>%\n",
    "    ungroup() %>%\n",
    "    .[c(rep(1, 4), rep(2, 4), rep(3, 4), rep(4, 4)),]\n",
    "\n",
    "plot_conf_mat <- function(model_results) {\n",
    "    \n",
    "    conf_mat <- model_results %>%\n",
    "        group_by(pop.class, .pred_class) %>%\n",
    "        count(.pred_class, pop.class, .drop=FALSE) %>%\n",
    "        ungroup() %>%\n",
    "        mutate(pop_count=pop_count$n) %>%\n",
    "        mutate(freq=n / pop_count) %>%\n",
    "        mutate(correct=ifelse(.pred_class==pop.class, 1, -1))\n",
    "    \n",
    "    cell_labs <- paste(round(100*conf_mat$freq), '%\\n(N=', conf_mat$n, ')', sep='')\n",
    "    cell_labs <- paste(conf_mat$n, '\\n(',round(100*conf_mat$freq), '%)', sep='')\n",
    "    \n",
    "    conf_mat %>%\n",
    "    ggplot(aes(.pred_class, pop.class)) +\n",
    "    geom_tile(aes(fill=freq*correct), color='black', size=.3) +\n",
    "    geom_text(aes(label=cell_labs), color='black', size=8) +\n",
    "    scale_fill_gradient2(low='pink', mid='white', high='#2FD565') +\n",
    "    scale_y_discrete(limits=rev, name='Popularity class') +\n",
    "    scale_x_discrete(position='top', name='Predicted class') +\n",
    "    coord_equal() +\n",
    "    theme_minimal() +\n",
    "    theme(legend.position = \"none\",\n",
    "          text=element_text(size=26),\n",
    "          axis.text=element_text(size=30))\n",
    "}"
   ]
  },
  {
   "cell_type": "markdown",
   "id": "baking-boost",
   "metadata": {},
   "source": [
    "## Logistic regression"
   ]
  },
  {
   "cell_type": "code",
   "execution_count": null,
   "id": "other-equality",
   "metadata": {},
   "outputs": [],
   "source": [
    "library(glmnet)"
   ]
  },
  {
   "cell_type": "markdown",
   "id": "prostate-arthur",
   "metadata": {},
   "source": [
    "### Without regularization"
   ]
  },
  {
   "cell_type": "code",
   "execution_count": null,
   "id": "computational-poster",
   "metadata": {},
   "outputs": [],
   "source": [
    "log_reg <- multinom_reg(penalty = 0) %>%\n",
    "    set_engine('glmnet')"
   ]
  },
  {
   "cell_type": "code",
   "execution_count": null,
   "id": "smaller-apartment",
   "metadata": {
    "scrolled": false
   },
   "outputs": [],
   "source": [
    "log_reg_fit <-\n",
    "    log_reg %>%\n",
    "    fit(pop.class ~ ., \n",
    "        data=songs_train)\n",
    "\n",
    "\n",
    "tidy(log_reg_fit) %>% \n",
    "    filter(term != '(Intercept)') %>%\n",
    "ggplot(aes(term, class)) +\n",
    "    geom_tile(aes(fill=estimate)) +\n",
    "    scale_fill_gradient2(low = \"blue\",\n",
    "                         mid = \"white\",\n",
    "                         high = \"red\",\n",
    "                         midpoint = 0) +\n",
    "    coord_equal() +\n",
    "    theme(text=element_text(size=16), axis.text.x = element_text(angle = 90))"
   ]
  },
  {
   "cell_type": "code",
   "execution_count": null,
   "id": "noticed-algeria",
   "metadata": {},
   "outputs": [],
   "source": [
    "log_reg_results <- \n",
    "  songs_test %>%\n",
    "  select(pop.class) %>%\n",
    "  bind_cols(\n",
    "    predict(log_reg_fit, new_data = songs_test %>% select(-pop.class))\n",
    "  )"
   ]
  },
  {
   "cell_type": "code",
   "execution_count": null,
   "id": "taken-buffer",
   "metadata": {},
   "outputs": [],
   "source": [
    "plot_conf_mat(log_reg_results)\n",
    "\n",
    "log_reg_results %>%\n",
    "    yardstick::accuracy(pop.class, .pred_class)"
   ]
  },
  {
   "cell_type": "markdown",
   "id": "antique-argentina",
   "metadata": {},
   "source": [
    "### With regularization"
   ]
  },
  {
   "cell_type": "code",
   "execution_count": null,
   "id": "following-austin",
   "metadata": {},
   "outputs": [],
   "source": [
    "#log_reg_grid <- tibble(penalty = 10^seq(-3, 0, length.out = 30))\n",
    "#log_reg_grid <- tibble(penalty = 10^seq(-3, -.3, length.out = 30))\n",
    "log_reg_grid <- expand.grid(penalty = 10^seq(-3, 0, length.out = 20), mixture=seq(0,1, length = 5))\n",
    "\n",
    "log_reg_rec <- recipe(pop.class ~ ., data = songs_train) %>%\n",
    "    step_normalize(all_numeric(), -all_outcomes()) %>%\n",
    "    step_dummy(all_nominal(), -all_outcomes())\n",
    "    step_\n",
    "\n",
    "log_reg_mod <- multinom_reg(penalty = tune(), mixture = tune()) %>%\n",
    "    set_engine(\"glmnet\")\n",
    "\n",
    "log_reg_wf <- workflow() %>%\n",
    "    add_recipe(log_reg_rec) %>%\n",
    "    add_model(log_reg_mod)"
   ]
  },
  {
   "cell_type": "code",
   "execution_count": null,
   "id": "opposite-great",
   "metadata": {
    "scrolled": true
   },
   "outputs": [],
   "source": [
    "log_reg_fit <- log_reg_wf %>%\n",
    "    tune_grid(\n",
    "        resamples = songs_cv,\n",
    "        grid = log_reg_grid,\n",
    "        metrics = metric_set(accuracy, roc_auc),\n",
    "        control = control_grid(verbose = TRUE)\n",
    "    )"
   ]
  },
  {
   "cell_type": "code",
   "execution_count": null,
   "id": "arranged-hundred",
   "metadata": {
    "scrolled": false
   },
   "outputs": [],
   "source": [
    "fig(10,8)\n",
    "log_reg_fit %>%\n",
    "    collect_metrics() %>%\n",
    "    ggplot(aes(penalty, mean, color = factor(mixture))) +\n",
    "    #geom_errorbar(aes(ymin = mean - std_err,\n",
    "    #                  ymax = mean + std_err), alpha = 0.5) +\n",
    "    geom_line(size = 1.5) +\n",
    "    facet_wrap(~.metric, scales = \"free\", nrow = 2) +\n",
    "    scale_x_log10() +\n",
    "    labs(x='Penalty', y='Metric', color='Mixture') +\n",
    "    theme(text=element_text(size=16))"
   ]
  },
  {
   "cell_type": "code",
   "execution_count": null,
   "id": "pursuant-treatment",
   "metadata": {},
   "outputs": [],
   "source": [
    "log_reg_best <- log_reg_fit %>%\n",
    "    select_by_one_std_err(metric=\"accuracy\", desc(penalty))\n",
    "    #select_best(metric=\"accuracy\")\n",
    "    #select_by_one_std_err(metric=\"rmse\", penalty)\n",
    "\n",
    "log_reg_wf %>% \n",
    "    finalize_workflow(log_reg_best) %>%\n",
    "    fit(songs_train) %>%\n",
    "    pull_workflow_fit() %>%\n",
    "    tidy() %>%\n",
    "    filter(term != '(Intercept)') %>%\n",
    "    #select(term, estimate) %>%\n",
    "    #arrange(desc(abs(estimate))) %>%\n",
    "ggplot(aes(term, class)) +\n",
    "    geom_tile(aes(fill=estimate)) +\n",
    "    scale_fill_gradient2(low = \"blue\",\n",
    "                           mid = \"white\",\n",
    "                           high = \"red\",\n",
    "                           midpoint = 0) +\n",
    "    coord_equal() +\n",
    "    theme(text=element_text(size=16), axis.text.x = element_text(angle = 90))"
   ]
  },
  {
   "cell_type": "code",
   "execution_count": null,
   "id": "upset-replacement",
   "metadata": {},
   "outputs": [],
   "source": [
    "log_reg_wf %>% \n",
    "    finalize_workflow(log_reg_best) %>%\n",
    "    fit(songs_train) %>%\n",
    "    pull_workflow_fit() %>%\n",
    "    tidy() %>%\n",
    "    filter(abs(estimate) > 0) %>%\n",
    "    filter(term != '(Intercept)')"
   ]
  },
  {
   "cell_type": "code",
   "execution_count": null,
   "id": "finite-sweet",
   "metadata": {},
   "outputs": [],
   "source": [
    "library(xtable)\n",
    "options(xtable.floating = FALSE)\n",
    "options(xtable.timestamp = \"\")\n",
    "lin_reg_wf %>% \n",
    "    finalize_workflow(lin_reg_best) %>%\n",
    "    fit(songs_reg_train) %>%\n",
    "    pull_workflow_fit() %>%\n",
    "    tidy() %>%\n",
    "    filter(abs(estimate) > 0) %>%\n",
    "    select(term, estimate) %>%\n",
    "    xtable(type = \"latex\") %>%\n",
    "print(file = \"lm.tex\")"
   ]
  },
  {
   "cell_type": "code",
   "execution_count": null,
   "id": "naughty-diameter",
   "metadata": {},
   "outputs": [],
   "source": [
    "log_reg_best_fit <- log_reg_wf %>%\n",
    "    finalize_workflow(log_reg_best) %>%\n",
    "    fit(data=songs_train)\n",
    "\n",
    "log_reg_results <- log_reg_best_fit %>%\n",
    "    predict(new_data = songs_test) %>%\n",
    "    bind_cols(songs_test, .) %>%\n",
    "    select(pop.class, .pred_class)"
   ]
  },
  {
   "cell_type": "code",
   "execution_count": null,
   "id": "checked-occupation",
   "metadata": {},
   "outputs": [],
   "source": [
    "plot_conf_mat(log_reg_results)\n",
    "\n",
    "log_reg_results %>%\n",
    "    yardstick::accuracy(pop.class, .pred_class)"
   ]
  },
  {
   "cell_type": "markdown",
   "id": "historic-waterproof",
   "metadata": {},
   "source": [
    "## K-nearest neighbours"
   ]
  },
  {
   "cell_type": "code",
   "execution_count": null,
   "id": "civic-germany",
   "metadata": {},
   "outputs": [],
   "source": [
    "knn_grid <- tibble(neighbors = seq(10, 70, by=5))\n",
    "\n",
    "knn_rec <- recipe(pop.class ~ ., data = songs_train) %>%\n",
    "    step_dummy(all_nominal(), -all_outcomes())\n",
    "\n",
    "knn_mod <- nearest_neighbor(neighbors=tune()) %>%\n",
    "    set_mode(\"classification\") %>%\n",
    "    set_engine(\"kknn\")\n",
    "\n",
    "knn_wf <- workflow() %>%\n",
    "    add_recipe(knn_rec) %>%\n",
    "    add_model(knn_mod)"
   ]
  },
  {
   "cell_type": "code",
   "execution_count": null,
   "id": "imported-minority",
   "metadata": {},
   "outputs": [],
   "source": [
    "knn_fit <- knn_wf %>%\n",
    "    tune_grid(\n",
    "        resamples = songs_cv,\n",
    "        grid = knn_grid\n",
    "    )"
   ]
  },
  {
   "cell_type": "code",
   "execution_count": null,
   "id": "loaded-equilibrium",
   "metadata": {},
   "outputs": [],
   "source": [
    "knn_fit %>%\n",
    "    collect_metrics()"
   ]
  },
  {
   "cell_type": "code",
   "execution_count": null,
   "id": "sized-entity",
   "metadata": {},
   "outputs": [],
   "source": [
    "fig(10,8)\n",
    "knn_fit %>%\n",
    "    collect_metrics() %>%\n",
    "    ggplot(aes(neighbors, mean, color = .metric)) +\n",
    "    geom_errorbar(aes(ymin = mean - std_err,\n",
    "                      ymax = mean + std_err), alpha = 0.5) +\n",
    "    geom_line(size = 1.5) +\n",
    "    facet_wrap(~.metric, scales = \"free\", nrow = 2) +\n",
    "    scale_x_log10() +\n",
    "    labs(x='Cost', y='Metric') +\n",
    "    theme(legend.position = \"none\",\n",
    "          text=element_text(size=16))"
   ]
  },
  {
   "cell_type": "code",
   "execution_count": null,
   "id": "frank-original",
   "metadata": {},
   "outputs": [],
   "source": [
    "knn_best <- knn_fit %>%\n",
    "    #select_by_one_std_err(metric=\"accuracy\", desc(cost_complexity))\n",
    "    select_best(metric=\"accuracy\")\n",
    "    #select_by_one_std_err(metric=\"rmse\", penalty)"
   ]
  },
  {
   "cell_type": "code",
   "execution_count": null,
   "id": "contemporary-shaft",
   "metadata": {},
   "outputs": [],
   "source": [
    "library(xtable)\n",
    "options(xtable.floating = FALSE)\n",
    "options(xtable.timestamp = \"\")\n",
    "lin_reg_wf %>% \n",
    "    finalize_workflow(lin_reg_best) %>%\n",
    "    fit(songs_reg_train) %>%\n",
    "    pull_workflow_fit() %>%\n",
    "    tidy() %>%\n",
    "    filter(abs(estimate) > 0) %>%\n",
    "    select(term, estimate) %>%\n",
    "    xtable(type = \"latex\") %>%\n",
    "print(file = \"lm.tex\")"
   ]
  },
  {
   "cell_type": "code",
   "execution_count": null,
   "id": "brilliant-clause",
   "metadata": {},
   "outputs": [],
   "source": [
    "knn_best_fit <- knn_wf %>% \n",
    "    finalize_workflow(knn_best) %>%\n",
    "    fit(data=songs_train)\n",
    "\n",
    "knn_results <- knn_best_fit %>%\n",
    "    predict(new_data = songs_test) %>%\n",
    "    bind_cols(songs_test, .) %>%\n",
    "    select(pop.class, .pred_class)"
   ]
  },
  {
   "cell_type": "code",
   "execution_count": null,
   "id": "helpful-victorian",
   "metadata": {
    "scrolled": false
   },
   "outputs": [],
   "source": [
    "plot_conf_mat(knn_results)\n",
    "\n",
    "knn_results %>%\n",
    "    yardstick::accuracy(pop.class, .pred_class)"
   ]
  },
  {
   "cell_type": "markdown",
   "id": "skilled-knowing",
   "metadata": {},
   "source": [
    "## SMV"
   ]
  },
  {
   "cell_type": "markdown",
   "id": "supported-bowling",
   "metadata": {},
   "source": [
    "### Linear kernel"
   ]
  },
  {
   "cell_type": "code",
   "execution_count": null,
   "id": "killing-cholesterol",
   "metadata": {},
   "outputs": [],
   "source": [
    "svm_lin_grid <- tibble(cost = 10^seq(-3,1, length.out = 10))\n",
    "\n",
    "svm_lin_rec <- recipe(pop.class ~ ., data = songs_train) %>%\n",
    "    step_normalize(all_numeric(), -all_outcomes()) %>%\n",
    "    step_select(-all_nominal_predictors())\n",
    "    #step_dummy(all_nominal(), -all_outcomes())\n",
    "\n",
    "svm_lin_mod <- svm_poly(degree=1, cost=tune()) %>%\n",
    "    set_mode(\"classification\") %>%\n",
    "    set_engine(\"kernlab\")\n",
    "\n",
    "svm_lin_wf <- workflow() %>%\n",
    "    add_recipe(svm_lin_rec) %>%\n",
    "    add_model(svm_lin_mod)"
   ]
  },
  {
   "cell_type": "code",
   "execution_count": null,
   "id": "massive-plane",
   "metadata": {},
   "outputs": [],
   "source": [
    "svm_lin_fit <- svm_lin_wf %>%\n",
    "    tune_grid(\n",
    "        resamples = songs_cv,\n",
    "        grid = svm_lin_grid,\n",
    "        control = control_grid(verbose = TRUE)\n",
    "    )"
   ]
  },
  {
   "cell_type": "code",
   "execution_count": null,
   "id": "external-stanley",
   "metadata": {},
   "outputs": [],
   "source": [
    "svm_lin_fit %>%\n",
    "    collect_metrics()"
   ]
  },
  {
   "cell_type": "code",
   "execution_count": null,
   "id": "oriented-convert",
   "metadata": {},
   "outputs": [],
   "source": [
    "fig(10,8)\n",
    "svm_lin_fit %>%\n",
    "    collect_metrics() %>%\n",
    "    ggplot(aes(cost, mean, color = .metric)) +\n",
    "    geom_errorbar(aes(ymin = mean - std_err,\n",
    "                      ymax = mean + std_err), alpha = 0.5) +\n",
    "    geom_line(size = 1.5) +\n",
    "    facet_wrap(~.metric, scales = \"free\", nrow = 2) +\n",
    "    scale_x_log10() +\n",
    "    labs(x='Cost', y='Metric') +\n",
    "    theme(legend.position = \"none\",\n",
    "          text=element_text(size=16))"
   ]
  },
  {
   "cell_type": "code",
   "execution_count": null,
   "id": "essential-confusion",
   "metadata": {},
   "outputs": [],
   "source": [
    "svm_lin_best <- svm_lin_fit %>%\n",
    "    #select_by_one_std_err(metric=\"accuracy\", desc(cost_complexity))\n",
    "    select_best(metric=\"roc_auc\")\n",
    "    #select_by_one_std_err(metric=\"rmse\", penalty)"
   ]
  },
  {
   "cell_type": "code",
   "execution_count": null,
   "id": "vocal-drinking",
   "metadata": {},
   "outputs": [],
   "source": [
    "svm_lin_best_fit <- svm_lin_wf %>% \n",
    "    finalize_workflow(svm_lin_best) %>%\n",
    "    fit(data=songs_train)\n",
    "\n",
    "#svm_lin_results <- svm_lin_best_fit %>%\n",
    "#    predict(new_data = songs_test) %>%\n",
    "#    bind_cols(songs_test, .) #%>%\n",
    "    #select(pop.class, .pred_class)"
   ]
  },
  {
   "cell_type": "code",
   "execution_count": null,
   "id": "gross-canon",
   "metadata": {},
   "outputs": [],
   "source": [
    "svm_lin_best_fit %>% \n",
    "    predict(new_data = songs_test)"
   ]
  },
  {
   "cell_type": "code",
   "execution_count": null,
   "id": "weekly-palmer",
   "metadata": {},
   "outputs": [],
   "source": [
    "svm_lin_results %>%\n",
    "    yardstick::accuracy(.pred_class, pop.class)"
   ]
  },
  {
   "cell_type": "code",
   "execution_count": null,
   "id": "statewide-overhead",
   "metadata": {
    "scrolled": false
   },
   "outputs": [],
   "source": [
    "plot_conf_mat(svm_lin_results)"
   ]
  },
  {
   "cell_type": "code",
   "execution_count": null,
   "id": "informational-processing",
   "metadata": {},
   "outputs": [],
   "source": [
    "songs_rec <-\n",
    "    recipe(pop.class ~ ., data = songs_train) %>%\n",
    "    step_normalize(all_numeric(), -all_outcomes())"
   ]
  },
  {
   "cell_type": "code",
   "execution_count": null,
   "id": "rough-execution",
   "metadata": {},
   "outputs": [],
   "source": [
    "formula_res <-\n",
    "    svm_mod %>% \n",
    "    tune_grid(\n",
    "        songs_rec,\n",
    "        resamples = songs_cv,\n",
    "        grid = tibble(cost=seq(.1, 2, length=2))\n",
    "    )\n",
    "#formula_res"
   ]
  },
  {
   "cell_type": "code",
   "execution_count": null,
   "id": "alpine-makeup",
   "metadata": {},
   "outputs": [],
   "source": [
    "estimates <- collect_metrics(formula_res)\n",
    "estimates %>%\n",
    "    #filter(.metric=='roc_auc') %>%\n",
    "    select(cost, mean, std_err, .metric) %>%\n",
    "ggplot(aes(cost, mean)) + \n",
    "    #geom_smooth(aes(ymax=mean+2*std_err, ymin=mean-2*std_err), stat='identity', color='#2FD565') + \n",
    "    geom_line(color='#2FD565') +\n",
    "    geom_errorbar(aes(ymax=mean+2*std_err, ymin=mean-2*std_err), color='#2FD565') +\n",
    "    scale_y_continuous(limits=c(0.5,1)) +\n",
    "    facet_wrap(~.metric)"
   ]
  },
  {
   "cell_type": "code",
   "execution_count": null,
   "id": "expected-value",
   "metadata": {},
   "outputs": [],
   "source": [
    "formula_res %>%\n",
    "    show_best() %>%\n",
    "    slice(1) %>%\n",
    "    select(cost, rbf_sigma)"
   ]
  },
  {
   "cell_type": "code",
   "execution_count": null,
   "id": "considered-george",
   "metadata": {},
   "outputs": [],
   "source": []
  },
  {
   "cell_type": "code",
   "execution_count": null,
   "id": "activated-jordan",
   "metadata": {},
   "outputs": [],
   "source": [
    "svm_results <- \n",
    "  songs_test %>%\n",
    "  select(pop.class) %>%\n",
    "  bind_cols(\n",
    "    predict(s_fit, new_data = songs_test %>% select(-pop.class))\n",
    "  )"
   ]
  },
  {
   "cell_type": "code",
   "execution_count": null,
   "id": "current-throat",
   "metadata": {},
   "outputs": [],
   "source": [
    "svm_tidy <- svm_rbf(cost=params$cost, rbf_sigma=params$rbf_sigma) %>%\n",
    "    set_mode('classification') %>%\n",
    "    set_engine('kernlab')"
   ]
  },
  {
   "cell_type": "code",
   "execution_count": null,
   "id": "advised-foster",
   "metadata": {},
   "outputs": [],
   "source": [
    "svm_tidy_fit <-\n",
    "    svm_tidy %>%\n",
    "    fit(pop.class ~ ., \n",
    "        data=songs_train)\n",
    "\n",
    "#tidy(svm_tidy_fit) %>% filter(estimate > 0)"
   ]
  },
  {
   "cell_type": "code",
   "execution_count": null,
   "id": "white-trainer",
   "metadata": {},
   "outputs": [],
   "source": [
    "svm_tidy_results <- \n",
    "  songs_test %>%\n",
    "  select(pop.class) %>%\n",
    "  bind_cols(\n",
    "    predict(svm_tidy_fit, new_data = songs_test %>% select(-pop.class))\n",
    "  )"
   ]
  },
  {
   "cell_type": "code",
   "execution_count": null,
   "id": "dangerous-tablet",
   "metadata": {},
   "outputs": [],
   "source": [
    "svm_tidy_results %>%\n",
    "    conf_mat(truth=pop.class, estimate=.pred_class)\n",
    "\n",
    "svm_tidy_results %>%\n",
    "    yardstick::precision(pop.class, .pred_class)"
   ]
  },
  {
   "cell_type": "markdown",
   "id": "periodic-draft",
   "metadata": {},
   "source": [
    "### Polynomial kernel"
   ]
  },
  {
   "cell_type": "code",
   "execution_count": null,
   "id": "spanish-spoke",
   "metadata": {},
   "outputs": [],
   "source": [
    "svm_poly_grid <- expand.grid(cost = 10^seq(-3,1, length.out = 5), degree = c(1:3))\n",
    "\n",
    "svm_poly_rec <- recipe(pop.class ~ ., data = songs_train) %>%\n",
    "    step_normalize(all_numeric(), -all_outcomes()) %>%\n",
    "    step_dummy(all_nominal(), -all_outcomes())\n",
    "\n",
    "svm_poly_mod <- svm_poly(degree= tune(), cost=tune()) %>%\n",
    "    set_mode(\"classification\") %>%\n",
    "    set_engine(\"kernlab\")\n",
    "\n",
    "svm_poly_wf <- workflow() %>%\n",
    "    add_recipe(svm_poly_rec) %>%\n",
    "    add_model(svm_poly_mod)"
   ]
  },
  {
   "cell_type": "code",
   "execution_count": null,
   "id": "supported-bundle",
   "metadata": {},
   "outputs": [],
   "source": [
    "svm_poly_fit <- svm_poly_wf %>%\n",
    "    tune_grid(\n",
    "        resamples = songs_cv,\n",
    "        grid = svm_poly_grid\n",
    "    )"
   ]
  },
  {
   "cell_type": "code",
   "execution_count": null,
   "id": "norwegian-mercy",
   "metadata": {},
   "outputs": [],
   "source": [
    "svm_poly_fit %>%\n",
    "    collect_metrics()"
   ]
  },
  {
   "cell_type": "code",
   "execution_count": null,
   "id": "rural-genealogy",
   "metadata": {},
   "outputs": [],
   "source": [
    "fig(10,8)\n",
    "svm_lin_fit %>%\n",
    "    collect_metrics() %>%\n",
    "    ggplot(aes(cost, mean, color = .metric)) +\n",
    "    geom_errorbar(aes(ymin = mean - std_err,\n",
    "                      ymax = mean + std_err), alpha = 0.5) +\n",
    "    geom_line(size = 1.5) +\n",
    "    facet_wrap(~.metric, scales = \"free\", nrow = 2) +\n",
    "    scale_x_log10() +\n",
    "    labs(x='Cost', y='Metric') +\n",
    "    theme(legend.position = \"none\",\n",
    "          text=element_text(size=16))"
   ]
  },
  {
   "cell_type": "code",
   "execution_count": null,
   "id": "continent-sunrise",
   "metadata": {},
   "outputs": [],
   "source": [
    "svm_lin_best <- svm_lin_fit %>%\n",
    "    #select_by_one_std_err(metric=\"accuracy\", desc(cost_complexity))\n",
    "    select_best(metric=\"roc_auc\")\n",
    "    #select_by_one_std_err(metric=\"rmse\", penalty)"
   ]
  },
  {
   "cell_type": "code",
   "execution_count": null,
   "id": "comprehensive-tourist",
   "metadata": {},
   "outputs": [],
   "source": [
    "svm_lin_best_fit <- svm_lin_wf %>% \n",
    "    finalize_workflow(svm_lin_best) %>%\n",
    "    fit(data=songs_train)\n",
    "\n",
    "svm_lin_results <- svm_lin_best_fit %>%\n",
    "    predict(new_data = songs_test) %>%\n",
    "    bind_cols(songs_test, .) %>%\n",
    "    select(pop.class, .pred_class)"
   ]
  },
  {
   "cell_type": "code",
   "execution_count": null,
   "id": "illegal-kernel",
   "metadata": {},
   "outputs": [],
   "source": [
    "svm_lin_results %>%\n",
    "    yardstick::accuracy(.pred_class, pop.class)"
   ]
  },
  {
   "cell_type": "code",
   "execution_count": null,
   "id": "thousand-prescription",
   "metadata": {
    "scrolled": false
   },
   "outputs": [],
   "source": [
    "plot_conf_mat(svm_lin_results)"
   ]
  },
  {
   "cell_type": "markdown",
   "id": "organized-poetry",
   "metadata": {},
   "source": [
    "### Radial kernel"
   ]
  },
  {
   "cell_type": "code",
   "execution_count": null,
   "id": "union-uniform",
   "metadata": {},
   "outputs": [],
   "source": [
    "svm_rad_grid <- tibble(cost = 10^seq(-4,1, length.out = 5))\n",
    "\n",
    "svm_lin_rec <- recipe(pop.class ~ ., data = songs_train) %>%\n",
    "    step_dummy(all_nominal(), -all_outcomes())\n",
    "\n",
    "svm_lin_mod <- svm_poly(degree=1, cost=tune()) %>%\n",
    "    set_mode(\"classification\") %>%\n",
    "    set_engine(\"kernlab\")\n",
    "\n",
    "svm_lin_wf <- workflow() %>%\n",
    "    add_recipe(svm_lin_rec) %>%\n",
    "    add_model(svm_lin_mod)"
   ]
  },
  {
   "cell_type": "code",
   "execution_count": null,
   "id": "nasty-vacuum",
   "metadata": {},
   "outputs": [],
   "source": [
    "svm_lin_fit <- svm_lin_wf %>%\n",
    "    tune_grid(\n",
    "        resamples = songs_cv,\n",
    "        grid = svm_lin_grid\n",
    "    )"
   ]
  },
  {
   "cell_type": "code",
   "execution_count": null,
   "id": "requested-essay",
   "metadata": {},
   "outputs": [],
   "source": [
    "svm_lin_fit %>%\n",
    "    collect_metrics()"
   ]
  },
  {
   "cell_type": "code",
   "execution_count": null,
   "id": "increased-mediterranean",
   "metadata": {},
   "outputs": [],
   "source": [
    "fig(10,8)\n",
    "svm_lin_fit %>%\n",
    "    collect_metrics() %>%\n",
    "    ggplot(aes(cost, mean, color = .metric)) +\n",
    "    geom_errorbar(aes(ymin = mean - std_err,\n",
    "                      ymax = mean + std_err), alpha = 0.5) +\n",
    "    geom_line(size = 1.5) +\n",
    "    facet_wrap(~.metric, scales = \"free\", nrow = 2) +\n",
    "    scale_x_log10() +\n",
    "    labs(x='Cost', y='Metric') +\n",
    "    theme(legend.position = \"none\",\n",
    "          text=element_text(size=16))"
   ]
  },
  {
   "cell_type": "code",
   "execution_count": null,
   "id": "charming-reach",
   "metadata": {},
   "outputs": [],
   "source": [
    "tree_best <- tree_fit %>%\n",
    "    select_by_one_std_err(metric=\"accuracy\", desc(cost_complexity))\n",
    "    #select_best(metric=\"accuracy\")\n",
    "    #select_by_one_std_err(metric=\"rmse\", penalty)"
   ]
  },
  {
   "cell_type": "code",
   "execution_count": null,
   "id": "rubber-handling",
   "metadata": {},
   "outputs": [],
   "source": [
    "library(xtable)\n",
    "options(xtable.floating = FALSE)\n",
    "options(xtable.timestamp = \"\")\n",
    "lin_reg_wf %>% \n",
    "    finalize_workflow(lin_reg_best) %>%\n",
    "    fit(songs_reg_train) %>%\n",
    "    pull_workflow_fit() %>%\n",
    "    tidy() %>%\n",
    "    filter(abs(estimate) > 0) %>%\n",
    "    select(term, estimate) %>%\n",
    "    xtable(type = \"latex\") %>%\n",
    "print(file = \"lm.tex\")"
   ]
  },
  {
   "cell_type": "code",
   "execution_count": null,
   "id": "cognitive-equilibrium",
   "metadata": {},
   "outputs": [],
   "source": [
    "tree_best_fit <- tree_wf %>% \n",
    "    finalize_workflow(tree_best) %>%\n",
    "    fit(data=songs_train)\n",
    "\n",
    "tree_results <- tree_best_fit %>%\n",
    "    predict(new_data = songs_test) %>%\n",
    "    bind_cols(songs_test, .) %>%\n",
    "    select(pop.class, .pred_class)"
   ]
  },
  {
   "cell_type": "code",
   "execution_count": null,
   "id": "prostate-scout",
   "metadata": {},
   "outputs": [],
   "source": [
    "tree_results %>%\n",
    "    mutate(correct=pop.class == .pred_class) %>%\n",
    "    summarise(accuracy=sum(correct==TRUE) / n)"
   ]
  },
  {
   "cell_type": "code",
   "execution_count": null,
   "id": "technological-hampshire",
   "metadata": {
    "scrolled": false
   },
   "outputs": [],
   "source": [
    "plot_conf_mat(tree_results)"
   ]
  },
  {
   "cell_type": "code",
   "execution_count": null,
   "id": "clear-thumbnail",
   "metadata": {},
   "outputs": [],
   "source": [
    "rad_svm <- train(pop.class ~., \n",
    "                 data = songs_train, \n",
    "                 method = \"svmRadial\", \n",
    "                 trControl = train_control,  \n",
    "                 preProcess = c(\"center\",\"scale\"),\n",
    "                 tuneGrid = expand.grid(C = seq(.5, 2, length = 3), \n",
    "                                        sigma = seq(0.001, 0.2, length = 6)))\n",
    "\n",
    "rad_svm"
   ]
  },
  {
   "cell_type": "code",
   "execution_count": null,
   "id": "sunrise-terrorism",
   "metadata": {},
   "outputs": [],
   "source": [
    "plot(rad_svm)"
   ]
  },
  {
   "cell_type": "code",
   "execution_count": null,
   "id": "statistical-absolute",
   "metadata": {},
   "outputs": [],
   "source": [
    "str(rad_svm$bestTune)"
   ]
  },
  {
   "cell_type": "code",
   "execution_count": null,
   "id": "adjustable-monitor",
   "metadata": {},
   "outputs": [],
   "source": [
    "rad_svm_mod <- svm_rbf(mode='classification', cost=rad_svm$bestTune$C, rbf_sigma=rad_svm$bestTune$sigma) %>%\n",
    "    set_engine(\"kernlab\")\n",
    "rad_svm_mod"
   ]
  },
  {
   "cell_type": "code",
   "execution_count": null,
   "id": "neutral-article",
   "metadata": {},
   "outputs": [],
   "source": [
    "rad_svm_fit <-\n",
    "    rad_svm_mod %>%\n",
    "    fit(pop.class ~ ., \n",
    "        data=songs_train)\n",
    "\n",
    "tidy(rad_svm_fit)"
   ]
  },
  {
   "cell_type": "code",
   "execution_count": null,
   "id": "proved-wheat",
   "metadata": {},
   "outputs": [],
   "source": [
    "rad_svm_results <- \n",
    "  songs_test %>%\n",
    "  select(pop.class) %>%\n",
    "  bind_cols(\n",
    "    predict(rad_svm_fit, new_data = songs_test %>% select(-pop.class))\n",
    "  )\n",
    "head(rad_svm_results)"
   ]
  },
  {
   "cell_type": "code",
   "execution_count": null,
   "id": "hazardous-praise",
   "metadata": {},
   "outputs": [],
   "source": [
    "rad_svm_results %>%\n",
    "    conf_mat(truth=pop.class, estimate=.pred_class)\n",
    "\n",
    "rad_svm_results %>%\n",
    "    yardstick::precision(truth=pop.class, estimate=.pred_class)"
   ]
  },
  {
   "cell_type": "markdown",
   "id": "separated-vegetable",
   "metadata": {},
   "source": [
    "## Decision tree"
   ]
  },
  {
   "cell_type": "code",
   "execution_count": null,
   "id": "exterior-planner",
   "metadata": {},
   "outputs": [],
   "source": [
    "tree_grid <- tibble(cost_complexity = 10^seq(-3, 0, length.out = 30))\n",
    "\n",
    "tree_rec <- recipe(pop.class ~ ., data = songs_train) #%>%\n",
    "    #step_normalize(all_numeric(), -all_outcomes()) %>%\n",
    "    #step_dummy(all_nominal(), -all_outcomes())\n",
    "\n",
    "tree_mod <- decision_tree(cost_complexity = tune(), tree_depth=5) %>%\n",
    "    set_mode(\"classification\") %>%\n",
    "    set_engine(\"rpart\")\n",
    "\n",
    "tree_wf <- workflow() %>%\n",
    "    add_recipe(tree_rec) %>%\n",
    "    add_model(tree_mod)"
   ]
  },
  {
   "cell_type": "code",
   "execution_count": null,
   "id": "bronze-adventure",
   "metadata": {
    "scrolled": true
   },
   "outputs": [],
   "source": [
    "tree_fit <- tree_wf %>%\n",
    "    tune_grid(\n",
    "        resamples = songs_cv,\n",
    "        grid = tree_grid,\n",
    "        control = control_grid(verbose=TRUE)\n",
    "    )"
   ]
  },
  {
   "cell_type": "code",
   "execution_count": null,
   "id": "collaborative-technical",
   "metadata": {},
   "outputs": [],
   "source": [
    "tree_fit %>%\n",
    "    collect_metrics()"
   ]
  },
  {
   "cell_type": "code",
   "execution_count": null,
   "id": "conscious-incidence",
   "metadata": {},
   "outputs": [],
   "source": [
    "fig(10,8)\n",
    "tree_fit %>%\n",
    "    collect_metrics() %>%\n",
    "    ggplot(aes(cost_complexity, mean, color = .metric)) +\n",
    "    geom_errorbar(aes(ymin = mean - std_err,\n",
    "                      ymax = mean + std_err), alpha = 0.5) +\n",
    "    geom_line(size = 1.5) +\n",
    "    facet_wrap(~.metric, scales = \"free\", nrow = 2) +\n",
    "    scale_x_log10() +\n",
    "    labs(x='Cp penalty', y='Metric') +\n",
    "    theme(legend.position = \"none\",\n",
    "          text=element_text(size=16))"
   ]
  },
  {
   "cell_type": "code",
   "execution_count": null,
   "id": "light-tribune",
   "metadata": {},
   "outputs": [],
   "source": [
    "tree_best <- tree_fit %>%\n",
    "    #collect_metrics() %>%\n",
    "    #arrange(.metric, desc(mean), cost_complexity) %>%\n",
    "    #slice(16)\n",
    "    select_by_one_std_err(metric=\"accuracy\", desc(cost_complexity))\n",
    "    #select_best(metric=\"accuracy\")\n",
    "    #select_by_one_std_err(metric=\"rmse\", penalty)\n",
    "#tree_best\n",
    "#tree_fit %>%\n",
    "#    collect_metrics() %>%\n",
    "#    arrange(.metric, desc(mean), cost_complexity) %>% mutate(row=row_number())"
   ]
  },
  {
   "cell_type": "code",
   "execution_count": null,
   "id": "lyric-relation",
   "metadata": {},
   "outputs": [],
   "source": [
    "tree_best"
   ]
  },
  {
   "cell_type": "code",
   "execution_count": null,
   "id": "entitled-adoption",
   "metadata": {},
   "outputs": [],
   "source": [
    "tree_best_fit <- tree_wf %>% \n",
    "    finalize_workflow(tree_best) %>%\n",
    "    fit(data=songs_train)\n",
    "\n",
    "tree_results <- tree_best_fit %>%\n",
    "    predict(new_data = songs_test) %>%\n",
    "    bind_cols(songs_test, .) %>%\n",
    "    select(pop.class, .pred_class)"
   ]
  },
  {
   "cell_type": "code",
   "execution_count": null,
   "id": "inappropriate-kentucky",
   "metadata": {},
   "outputs": [],
   "source": [
    "tree_results %>%\n",
    "    accuracy(pop.class, .pred_class)"
   ]
  },
  {
   "cell_type": "code",
   "execution_count": null,
   "id": "covered-springfield",
   "metadata": {},
   "outputs": [],
   "source": [
    "plot_conf_mat(tree_results)"
   ]
  },
  {
   "cell_type": "code",
   "execution_count": null,
   "id": "opponent-density",
   "metadata": {},
   "outputs": [],
   "source": [
    "library(rpart.plot)\n",
    "rpart.plot(tree_best_fit$fit$fit$fit)"
   ]
  },
  {
   "cell_type": "code",
   "execution_count": null,
   "id": "outdoor-frost",
   "metadata": {},
   "outputs": [],
   "source": [
    "library(keras)"
   ]
  },
  {
   "cell_type": "code",
   "execution_count": null,
   "id": "nutritional-disorder",
   "metadata": {},
   "outputs": [],
   "source": [
    "nn_grid <- tibble(epochs=c(30, 50, 100))\n",
    "\n",
    "nn_rec <- recipe(pop.class ~ ., data = songs_train) %>%\n",
    "    step_normalize(all_numeric(), -all_outcomes()) %>%\n",
    "    step_dummy(all_nominal(), -all_outcomes())\n",
    "\n",
    "nn_mod <- mlp(hidden_units = 8, epochs = tune()) %>%\n",
    "    set_mode(\"classification\") %>%\n",
    "    set_engine(\"keras\")\n",
    "\n",
    "nn_wf <- workflow() %>%\n",
    "    add_recipe(nn_rec) %>%\n",
    "    add_model(nn_mod)"
   ]
  },
  {
   "cell_type": "code",
   "execution_count": null,
   "id": "designed-coupon",
   "metadata": {
    "scrolled": true
   },
   "outputs": [],
   "source": [
    "nn_fit <- nn_wf %>%\n",
    "    tune_grid(\n",
    "        resamples = songs_cv,\n",
    "        grid = nn_grid,\n",
    "        control = control_grid(verbose=TRUE)\n",
    "    )"
   ]
  },
  {
   "cell_type": "code",
   "execution_count": null,
   "id": "welcome-portsmouth",
   "metadata": {},
   "outputs": [],
   "source": [
    "nn_fit %>%\n",
    "    collect_metrics()"
   ]
  },
  {
   "cell_type": "code",
   "execution_count": null,
   "id": "inclusive-norman",
   "metadata": {},
   "outputs": [],
   "source": [
    "fig(10,8)\n",
    "nn_fit %>%\n",
    "    collect_metrics() %>%\n",
    "    ggplot(aes(epochs, mean, color = .metric)) +\n",
    "    geom_errorbar(aes(ymin = mean - std_err,\n",
    "                      ymax = mean + std_err), alpha = 0.5) +\n",
    "    geom_line(size = 1.5) +\n",
    "    facet_wrap(~.metric, scales = \"free\", nrow = 2) +\n",
    "    scale_x_log10() +\n",
    "    labs(x='Cp penalty', y='Metric') +\n",
    "    theme(legend.position = \"none\",\n",
    "          text=element_text(size=16))"
   ]
  },
  {
   "cell_type": "code",
   "execution_count": null,
   "id": "breathing-child",
   "metadata": {},
   "outputs": [],
   "source": [
    "nn_best <- nn_fit %>%\n",
    "    select_best(metric=\"accuracy\")\n",
    "    #select_by_one_std_err(metric=\"rmse\", penalty)"
   ]
  },
  {
   "cell_type": "code",
   "execution_count": null,
   "id": "decent-completion",
   "metadata": {},
   "outputs": [],
   "source": [
    "nn_best_fit <- nn_wf %>% \n",
    "    finalize_workflow(nn_best) %>%\n",
    "    fit(data=songs_train)\n",
    "\n",
    "nn_results <- nn_best_fit %>%\n",
    "    predict(new_data = songs_test) %>%\n",
    "    bind_cols(songs_test, .) %>%\n",
    "    select(pop.class, .pred_class)"
   ]
  },
  {
   "cell_type": "code",
   "execution_count": null,
   "id": "valid-elevation",
   "metadata": {},
   "outputs": [],
   "source": [
    "nn_results %>%\n",
    "    yardstick::accuracy(.pred_class, pop.class)"
   ]
  },
  {
   "cell_type": "code",
   "execution_count": null,
   "id": "coated-gauge",
   "metadata": {},
   "outputs": [],
   "source": [
    "plot_conf_mat(nn_results)"
   ]
  },
  {
   "cell_type": "code",
   "execution_count": null,
   "id": "armed-copper",
   "metadata": {},
   "outputs": [],
   "source": [
    "nn_mod <- mlp(hidden_units = 16, epochs=300) %>%\n",
    "    set_mode(\"classification\") %>%\n",
    "    set_engine(\"keras\", verbose=2)\n",
    "\n",
    "nn_wf <- workflow() %>%\n",
    "    add_recipe(nn_rec) %>%\n",
    "    add_model(nn_mod)"
   ]
  },
  {
   "cell_type": "code",
   "execution_count": null,
   "id": "waiting-blanket",
   "metadata": {},
   "outputs": [],
   "source": [
    "nn_mod_fit <- nn_wf %>%\n",
    "    fit(data=songs_train)"
   ]
  },
  {
   "cell_type": "code",
   "execution_count": null,
   "id": "headed-excuse",
   "metadata": {},
   "outputs": [],
   "source": [
    "nn_mod_results <- nn_mod_fit %>%\n",
    "    predict(new_data = songs_test) %>%\n",
    "    bind_cols(songs_test, .) %>%\n",
    "    select(pop.class, .pred_class)"
   ]
  },
  {
   "cell_type": "code",
   "execution_count": null,
   "id": "falling-memorabilia",
   "metadata": {},
   "outputs": [],
   "source": [
    "nn_mod_results %>%\n",
    "    yardstick::accuracy(pop.class, .pred_class)\n",
    "\n",
    "fig(6,6)\n",
    "plot_conf_mat(nn_mod_results)"
   ]
  },
  {
   "cell_type": "markdown",
   "id": "banned-rochester",
   "metadata": {},
   "source": [
    "# Regression models"
   ]
  },
  {
   "cell_type": "markdown",
   "id": "chicken-advantage",
   "metadata": {},
   "source": [
    "#### With year"
   ]
  },
  {
   "cell_type": "code",
   "execution_count": null,
   "id": "champion-happening",
   "metadata": {},
   "outputs": [],
   "source": [
    "train_ratio <- .8\n",
    "reg_data_split <- songs %>%\n",
    "    initial_split(prop = train_ratio)\n",
    "\n",
    "songs_reg_train <- training(reg_data_split) %>% \n",
    "    #select(!c(pop.class, year, key, mode, name)) %>% \n",
    "    #select(!c(pop.class, year, name)) %>% \n",
    "    select(!c(pop.class, name))\n",
    "songs_reg_test  <- testing(reg_data_split)  %>% \n",
    "    #select(!c(pop.class, year, key, mode, name)) %>% \n",
    "    #select(!c(pop.class, year, name)) %>% \n",
    "    select(!c(pop.class, name))"
   ]
  },
  {
   "cell_type": "code",
   "execution_count": null,
   "id": "lonely-interval",
   "metadata": {},
   "outputs": [],
   "source": [
    "songs_reg_cv <- rsample::vfold_cv(songs_reg_train, v=10, repeats=1)"
   ]
  },
  {
   "cell_type": "code",
   "execution_count": null,
   "id": "fitting-perth",
   "metadata": {},
   "outputs": [],
   "source": [
    "threshold_pred <- function(results) {\n",
    "    results %>%\n",
    "        mutate(D=ifelse(.pred<20, TRUE, FALSE)) %>%\n",
    "        mutate(C=ifelse(.pred<40 & .pred>=20, TRUE, FALSE)) %>%\n",
    "        mutate(B=ifelse(.pred<60 & .pred>=40, TRUE, FALSE)) %>%\n",
    "        mutate(A=ifelse(.pred>=60, TRUE, FALSE)) %>%\n",
    "        pivot_longer(cols=D:A, names_to = '.pred_class', values_to='dummy') %>%\n",
    "        mutate(.pred_class=factor(.pred_class, levels=c('A', 'B', 'C', 'D'))) %>%\n",
    "        filter(dummy) %>%\n",
    "        select(!dummy)\n",
    "}"
   ]
  },
  {
   "cell_type": "code",
   "execution_count": null,
   "id": "solved-eight",
   "metadata": {},
   "outputs": [],
   "source": [
    "#lin_reg_grid <- tibble(penalty = 10^seq(-2,1, length.out = 30))\n",
    "lin_reg_grid <- expand.grid(penalty = 10^seq(-1, 1, length.out = 20), mixture=seq(0,1, length = 3))\n",
    "\n",
    "lin_reg_rec <- recipe(popularity ~ ., data = songs_reg_train) %>%\n",
    "    step_normalize(all_numeric(), -all_outcomes()) %>%\n",
    "    step_dummy(all_nominal(), -all_outcomes())\n",
    "\n",
    "lin_reg_mod <- linear_reg(penalty = tune(), mixture = tune()) %>%\n",
    "    set_engine(\"glmnet\")\n",
    "\n",
    "lin_reg_wf <- workflow() %>%\n",
    "    add_recipe(lin_reg_rec) %>%\n",
    "    add_model(lin_reg_mod) #%>% add_formula(popularity ~ .) "
   ]
  },
  {
   "cell_type": "code",
   "execution_count": null,
   "id": "dental-atmosphere",
   "metadata": {
    "scrolled": true
   },
   "outputs": [],
   "source": [
    "lin_reg_fit <- lin_reg_wf %>%\n",
    "    tune_grid(\n",
    "        resamples = songs_reg_cv,\n",
    "        grid = lin_reg_grid,\n",
    "        control = control_grid(verbose=TRUE)\n",
    "    )"
   ]
  },
  {
   "cell_type": "code",
   "execution_count": null,
   "id": "cathedral-syntax",
   "metadata": {},
   "outputs": [],
   "source": [
    "fig(12,8)\n",
    "lin_reg_fit %>%\n",
    "    collect_metrics() %>%\n",
    "    ggplot(aes(penalty, mean, color = factor(mixture))) +\n",
    "    #geom_errorbar(aes(ymin = mean - std_err,\n",
    "    #                  ymax = mean + std_err), alpha = 0.5) +\n",
    "    geom_line(size = 1.5) +\n",
    "    facet_wrap(~.metric, scales = \"free\", nrow = 2) +\n",
    "    scale_x_log10() +\n",
    "    labs(x='Lasso penalty', y='Metric', color='Mixture') +\n",
    "    theme(text=element_text(size=16))"
   ]
  },
  {
   "cell_type": "code",
   "execution_count": null,
   "id": "front-buying",
   "metadata": {},
   "outputs": [],
   "source": [
    "lin_reg_fit %>%\n",
    "    select_by_one_std_err(metric=\"rmse\", desc(penalty))\n",
    "    #select_by_one_std_err(metric=\"rmse\", penalty)"
   ]
  },
  {
   "cell_type": "code",
   "execution_count": null,
   "id": "modern-singing",
   "metadata": {},
   "outputs": [],
   "source": [
    "lin_reg_best <- lin_reg_fit %>%\n",
    "    select_by_one_std_err(metric=\"rmse\", desc(penalty), desc(mixture))\n",
    "    #select_by_one_std_err(metric=\"rmse\", desc(penalty))\n",
    "    #select_best(metric=\"rmse\")\n",
    "\n",
    "var_importance <- lin_reg_wf %>% \n",
    "    finalize_workflow(lin_reg_best) %>%\n",
    "    fit(songs_reg_train) %>%\n",
    "    pull_workflow_fit() %>%\n",
    "    tidy() %>%\n",
    "    slice(-1) %>%\n",
    "    filter(abs(estimate) > 0) %>%\n",
    "    select(term, estimate) %>%\n",
    "    mutate(abs_estimate=abs(estimate), sign=estimate>0) %>%\n",
    "    arrange(desc(abs_estimate))\n",
    "\n",
    "fig(8,6)\n",
    "ggplot(var_importance) +\n",
    "    geom_bar(stat='identity', aes(reorder(term, abs_estimate), abs_estimate, fill=sign)) +\n",
    "    scale_x_discrete(breaks=var_importance$term) +\n",
    "    labs(x='', y='Importance') +\n",
    "    coord_flip() +\n",
    "    guides(fill='none') "
   ]
  },
  {
   "cell_type": "code",
   "execution_count": null,
   "id": "norman-narrow",
   "metadata": {},
   "outputs": [],
   "source": [
    "library(xtable)\n",
    "options(xtable.floating = FALSE)\n",
    "options(xtable.timestamp = \"\")\n",
    "lin_reg_wf %>% \n",
    "    finalize_workflow(lin_reg_best) %>%\n",
    "    fit(songs_reg_train) %>%\n",
    "    pull_workflow_fit() %>%\n",
    "    tidy() %>%\n",
    "    filter(abs(estimate) > 0) %>%\n",
    "    select(term, estimate) %>%\n",
    "    xtable(type = \"latex\") %>%\n",
    "print(file = \"lm.tex\")"
   ]
  },
  {
   "cell_type": "code",
   "execution_count": null,
   "id": "engaging-handy",
   "metadata": {},
   "outputs": [],
   "source": [
    "lin_reg_best_fit <- lin_reg_wf %>% \n",
    "    finalize_workflow(lin_reg_best) %>%\n",
    "    fit(data=songs_reg_train)\n",
    "\n",
    "\n",
    "lin_reg_results <- lin_reg_best_fit %>%\n",
    "    #predict(new_data = songs_reg_test) %>%\n",
    "    predict(new_data = songs_reg_test) %>%\n",
    "    bind_cols(testing(reg_data_split), .) %>%\n",
    "    threshold_pred()"
   ]
  },
  {
   "cell_type": "code",
   "execution_count": null,
   "id": "familiar-bennett",
   "metadata": {},
   "outputs": [],
   "source": []
  },
  {
   "cell_type": "code",
   "execution_count": null,
   "id": "white-sympathy",
   "metadata": {
    "direction": "rtl",
    "scrolled": false
   },
   "outputs": [],
   "source": [
    "max_pop <- 88\n",
    "fig(7,7)\n",
    "lin_reg_results %>%\n",
    "    #mutate(.pred=pmax(pmin(.pred, 100), 0)) %>%\n",
    "    ggplot(aes(.pred, popularity)) + \n",
    "    geom_point(alpha=.75) +\n",
    "    annotate('line', x = c(0, max_pop), y = c(0, max_pop), color='#2FD565', size=1, linetype='dashed') +\n",
    "    #scale_x_continuous(limits=c(0,100), name='Predicted popularity') +\n",
    "    #scale_y_continuous(limits=c(0,100), name='Popularity') +\n",
    "    labs(x='Prediction', y='Popularity') +\n",
    "    theme(text=element_text(size=16)) +\n",
    "    coord_equal()"
   ]
  },
  {
   "cell_type": "code",
   "execution_count": null,
   "id": "express-contributor",
   "metadata": {},
   "outputs": [],
   "source": [
    "lin_reg_results %>%\n",
    "    mutate(residuals = popularity - .pred) %>%\n",
    "ggplot(aes(.pred, residuals)) +\n",
    "    geom_point()"
   ]
  },
  {
   "cell_type": "code",
   "execution_count": null,
   "id": "comparable-shakespeare",
   "metadata": {},
   "outputs": [],
   "source": []
  },
  {
   "cell_type": "markdown",
   "id": "acoustic-hunter",
   "metadata": {},
   "source": [
    "### First try"
   ]
  },
  {
   "cell_type": "code",
   "execution_count": null,
   "id": "capital-activation",
   "metadata": {},
   "outputs": [],
   "source": [
    "lowest_rmse <- lasso_grid %>%\n",
    "    select_by_one_std_err(metric=\"rmse\", penalty)\n",
    "    #select_best(\"rmse\")\n",
    "\n",
    "final_lasso <- finalize_workflow(\n",
    "  wf %>% add_model(tune_spec),\n",
    "  lowest_rmse\n",
    ")"
   ]
  },
  {
   "cell_type": "code",
   "execution_count": null,
   "id": "preceding-greek",
   "metadata": {},
   "outputs": [],
   "source": [
    "library(vip)\n",
    "\n",
    "fig(6,4)\n",
    "final_lasso %>%\n",
    "  fit(songs_reg_train) %>%\n",
    "  pull_workflow_fit() %>%\n",
    "  vi(lambda = lowest_rmse$penalty) %>%\n",
    "  mutate(\n",
    "    Importance = abs(Importance),\n",
    "    Variable = fct_reorder(Variable, Importance)\n",
    "  ) %>%\n",
    "  ggplot(aes(x = Importance, y = Variable, fill = Sign)) +\n",
    "  geom_col() +\n",
    "  scale_x_continuous(expand = c(0, 0)) +\n",
    "  labs(y = NULL)"
   ]
  },
  {
   "cell_type": "code",
   "execution_count": null,
   "id": "continued-banner",
   "metadata": {},
   "outputs": [],
   "source": [
    "lin_reg_fit <- last_fit(\n",
    "    final_lasso,\n",
    "    reg_data_split\n",
    ") %>%\n",
    "    pull_workflow_fit() %>% str()"
   ]
  },
  {
   "cell_type": "code",
   "execution_count": null,
   "id": "endangered-gross",
   "metadata": {},
   "outputs": [],
   "source": [
    "fig(5,5)\n",
    "lin_reg_fit$.predictions[[1]] %>%\n",
    "    mutate(.pred=pmax(pmin(.pred, 100), 0)) %>%\n",
    "    ggplot(aes(.pred, popularity)) + \n",
    "    geom_point() +\n",
    "    annotate('line', x = c(0,100), y = c(0,100), color='#2FD565', size=1, linetype='dashed') +\n",
    "    scale_x_continuous(limits=c(0,100), name='Predicted popularity') +\n",
    "    scale_y_continuous(limits=c(0,100)) +\n",
    "    coord_equal()"
   ]
  },
  {
   "cell_type": "markdown",
   "id": "protective-ukraine",
   "metadata": {},
   "source": [
    "## Linear SVM"
   ]
  },
  {
   "cell_type": "code",
   "execution_count": null,
   "id": "registered-terminology",
   "metadata": {},
   "outputs": [],
   "source": [
    "lin_svm_reg_grid <- tibble(C = 10^seq(-4,1, length.out = 5))\n",
    "\n",
    "lin_svm_reg_rec <- recipe(popularity ~ ., data = songs_reg_train) %>%\n",
    "    step_normalize(all_numeric(), -all_outcomes()) %>%\n",
    "    step_dummy(all_nominal(), -all_outcomes())\n",
    "\n",
    "svm_reg_mod <- svm_polynomial(C = tune()) %>%\n",
    "    set_mode(\"regression\") %>%\n",
    "    set_engine(\"kernlab\")\n",
    "\n",
    "lin_svm_reg_wf <- workflow() %>%\n",
    "    add_recipe(lin_svm_reg_rec) %>%\n",
    "    add_model(lin_svm_reg_mod)"
   ]
  },
  {
   "cell_type": "markdown",
   "id": "experienced-singing",
   "metadata": {},
   "source": [
    "## Decision tree regression"
   ]
  },
  {
   "cell_type": "code",
   "execution_count": null,
   "id": "documented-concentration",
   "metadata": {},
   "outputs": [],
   "source": [
    "tree_reg_grid <- tibble(cost_complexity = seq(1e-4, 1e-2, length.out = 30))\n",
    "\n",
    "tree_reg_rec <- recipe(popularity ~ ., data = songs_reg_train)\n",
    "\n",
    "tree_reg_mod <- decision_tree(cost_complexity = tune()) %>%\n",
    "    set_mode(\"regression\") %>%\n",
    "    set_engine(\"rpart\")\n",
    "\n",
    "tree_reg_wf <- workflow() %>%\n",
    "    add_recipe(tree_reg_rec) %>%\n",
    "    add_model(tree_reg_mod)"
   ]
  },
  {
   "cell_type": "code",
   "execution_count": null,
   "id": "overhead-desert",
   "metadata": {},
   "outputs": [],
   "source": [
    "tree_reg_fit <- tree_reg_wf %>%\n",
    "    tune_grid(\n",
    "        resamples = songs_reg_cv,\n",
    "        grid = tree_reg_grid\n",
    "    )"
   ]
  },
  {
   "cell_type": "code",
   "execution_count": null,
   "id": "settled-crisis",
   "metadata": {},
   "outputs": [],
   "source": [
    "fig(10,8)\n",
    "tree_reg_fit %>%\n",
    "    collect_metrics() %>%\n",
    "    ggplot(aes(cost_complexity, mean, color = .metric)) +\n",
    "    geom_errorbar(aes(ymin = mean - std_err,\n",
    "                      ymax = mean + std_err), alpha = 0.5, size=1) +\n",
    "    geom_line(size = 1.5) +\n",
    "    facet_wrap(~.metric, scales = \"free\", nrow = 2) +\n",
    "    #scale_x_log10() +\n",
    "    labs(x='Cp penalty', y='Metric') +\n",
    "    theme(legend.position = \"none\",\n",
    "          text=element_text(size=16))"
   ]
  },
  {
   "cell_type": "code",
   "execution_count": null,
   "id": "accredited-strike",
   "metadata": {},
   "outputs": [],
   "source": [
    "tree_reg_best <- tree_reg_fit %>%\n",
    "    select_best(metric=\"rmse\")\n",
    "    #select_by_one_std_err(metric=\"rmse\", penalty)"
   ]
  },
  {
   "cell_type": "code",
   "execution_count": null,
   "id": "received-heather",
   "metadata": {},
   "outputs": [],
   "source": [
    "library(xtable)\n",
    "options(xtable.floating = FALSE)\n",
    "options(xtable.timestamp = \"\")\n",
    "lin_reg_wf %>% \n",
    "    finalize_workflow(lin_reg_best) %>%\n",
    "    fit(songs_reg_train) %>%\n",
    "    pull_workflow_fit() %>%\n",
    "    tidy() %>%\n",
    "    filter(abs(estimate) > 0) %>%\n",
    "    select(term, estimate) %>%\n",
    "    xtable(type = \"latex\") %>%\n",
    "print(file = \"lm.tex\")"
   ]
  },
  {
   "cell_type": "code",
   "execution_count": null,
   "id": "confused-utility",
   "metadata": {},
   "outputs": [],
   "source": [
    "tree_reg_best_fit <- tree_reg_wf %>% \n",
    "    finalize_workflow(tree_reg_best) %>%\n",
    "    fit(data=songs_reg_train)\n",
    "\n",
    "tree_reg_results <- tree_reg_best_fit %>%\n",
    "    predict(new_data = songs_reg_test) %>%\n",
    "    bind_cols(testing(reg_data_split), .) %>%\n",
    "    threshold_pred()"
   ]
  },
  {
   "cell_type": "code",
   "execution_count": null,
   "id": "aboriginal-induction",
   "metadata": {},
   "outputs": [],
   "source": [
    "pred_count <- tree_reg_results %>% \n",
    "    count(.pred) %>%\n",
    "    bind_cols(tree_reg_results %>%\n",
    "                  group_by(.pred) %>%\n",
    "                  summarise(min_pop = min(popularity)) %>% \n",
    "                  select(min_pop)) %>%\n",
    "    arrange(.pred)\n",
    "\n",
    "x_labs <- paste('(N=', pred_count$n, ')', sep='')"
   ]
  },
  {
   "cell_type": "code",
   "execution_count": null,
   "id": "general-founder",
   "metadata": {},
   "outputs": [],
   "source": [
    "#tree_reg_results %>%\n",
    "    mutate(D=ifelse(.pred<20, TRUE, FALSE)) %>%\n",
    "    mutate(C=ifelse(.pred<40 & .pred>=20, TRUE, FALSE)) %>%\n",
    "    mutate(B=ifelse(.pred<60 & .pred>=40, TRUE, FALSE)) %>%\n",
    "    mutate(A=ifelse(.pred>=60, TRUE, FALSE)) %>%\n",
    "    pivot_longer(cols=D:A, names_to = '.pred_class', values_to='dummy') %>%\n",
    "    filter(dummy) %>%\n",
    "    select(!dummy)\n"
   ]
  },
  {
   "cell_type": "code",
   "execution_count": null,
   "id": "institutional-singer",
   "metadata": {
    "direction": "rtl",
    "scrolled": false
   },
   "outputs": [],
   "source": [
    "max_pop <- 75\n",
    "fig(10,6)\n",
    "tree_reg_results %>%\n",
    "    #mutate(.pred=pmax(pmin(.pred, 100), 0)) %>%\n",
    "    ggplot(aes(.pred, popularity)) + \n",
    "    geom_boxplot(aes(group=.pred), width=5, position='identity', varwidth=TRUE) +\n",
    "    annotate('line', x = c(0,max_pop), y = c(0,max_pop), color='#2FD565', size=1, linetype='dashed') +\n",
    "    #annotate('text', x=pred_count$.pred, y=pred_count$min_pop-2, label=x_labs)\n",
    "    scale_x_continuous(limits=c(0, max_pop), breaks=25*c(0:3)) +\n",
    "    labs(x='Prediction', y='Popularity') +\n",
    "    theme(text=element_text(size=16))"
   ]
  },
  {
   "cell_type": "code",
   "execution_count": null,
   "id": "fallen-roberts",
   "metadata": {},
   "outputs": [],
   "source": [
    "fig(6,6)\n",
    "plot_conf_mat(tree_reg_results)\n",
    "\n",
    "tree_reg_results %>%\n",
    "    yardstick::accuracy(pop.class, .pred_class)\n",
    "\n",
    "tree_reg_results %>%\n",
    "    yardstick::rmse(popularity, .pred)"
   ]
  },
  {
   "cell_type": "code",
   "execution_count": null,
   "id": "phantom-peeing",
   "metadata": {},
   "outputs": [],
   "source": [
    "library(rpart.plot)\n",
    "fig(10,6)\n",
    "rpart.plot(tree_reg_best_fit$fit$fit$fit)"
   ]
  },
  {
   "cell_type": "code",
   "execution_count": null,
   "id": "sticky-valentine",
   "metadata": {},
   "outputs": [],
   "source": [
    "nn_reg_rec <- recipe(popularity ~ ., data = songs_reg_train) %>%\n",
    "    step_normalize(all_numeric(), -all_outcomes()) %>%\n",
    "    step_dummy(all_nominal(), -all_outcomes())\n",
    "\n",
    "nn_reg_mod <- mlp(hidden_units = 16, activation='relu', penalty=0.01, epochs=200) %>%\n",
    "    set_mode(\"regression\") %>%\n",
    "    set_engine(\"keras\", verbose=2)\n",
    "\n",
    "nn_reg_wf <- workflow() %>%\n",
    "    add_recipe(nn_reg_rec) %>%\n",
    "    add_model(nn_reg_mod)"
   ]
  },
  {
   "cell_type": "code",
   "execution_count": null,
   "id": "mounted-insider",
   "metadata": {},
   "outputs": [],
   "source": [
    "nn_reg_mod_fit <- nn_reg_wf %>%\n",
    "    fit(data=songs_reg_train)"
   ]
  },
  {
   "cell_type": "code",
   "execution_count": null,
   "id": "fifteen-typing",
   "metadata": {},
   "outputs": [],
   "source": [
    "nn_reg_mod_results <- nn_reg_mod_fit %>%\n",
    "    predict(new_data = songs_reg_test) %>%\n",
    "    bind_cols(testing(reg_data_split), .) %>%\n",
    "    threshold_pred()"
   ]
  },
  {
   "cell_type": "code",
   "execution_count": null,
   "id": "valid-preview",
   "metadata": {},
   "outputs": [],
   "source": [
    "nn_reg_mod_results %>%\n",
    "    yardstick::rmse(popularity, .pred)\n",
    "\n",
    "nn_reg_mod_results %>%\n",
    "    yardstick::accuracy(pop.class, .pred_class)\n",
    "    \n",
    "\n",
    "plot_conf_mat(nn_reg_mod_results)"
   ]
  },
  {
   "cell_type": "code",
   "execution_count": null,
   "id": "heavy-community",
   "metadata": {},
   "outputs": [],
   "source": [
    "max_pop <- 88\n",
    "fig(7,7)\n",
    "nn_reg_mod_results %>%\n",
    "    ggplot(aes(.pred, popularity)) + \n",
    "    geom_point( alpha=.6) +\n",
    "    annotate('line', x = c(0, max_pop), y = c(0, max_pop), color='#2FD565', size=1, linetype='dashed') +\n",
    "    #scale_x_continuous(limits=c(0,100), name='Predicted popularity') +\n",
    "    #scale_y_continuous(limits=c(0,100), name='Popularity') +\n",
    "    coord_equal()"
   ]
  }
 ],
 "metadata": {
  "kernelspec": {
   "display_name": "R",
   "language": "R",
   "name": "ir"
  },
  "language_info": {
   "codemirror_mode": "r",
   "file_extension": ".r",
   "mimetype": "text/x-r-source",
   "name": "R",
   "pygments_lexer": "r",
   "version": "4.0.3"
  }
 },
 "nbformat": 4,
 "nbformat_minor": 5
}
