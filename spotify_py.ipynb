{
 "cells": [
  {
   "cell_type": "code",
   "execution_count": 1,
   "id": "expanded-contrary",
   "metadata": {},
   "outputs": [],
   "source": [
    "import numpy as np\n",
    "import pandas as pd\n",
    "import matplotlib.pyplot as plt"
   ]
  },
  {
   "cell_type": "code",
   "execution_count": 22,
   "id": "extra-better",
   "metadata": {},
   "outputs": [
    {
     "name": "stdout",
     "output_type": "stream",
     "text": [
      "['valence', 'year', 'acousticness', 'danceability', 'duration', 'energy', 'instrumentalness', 'key', 'liveness', 'loudness', 'mode', 'popularity', 'speechiness', 'tempo', 'pop.class', 'name']\n"
     ]
    },
    {
     "data": {
      "text/html": [
       "<div>\n",
       "<style scoped>\n",
       "    .dataframe tbody tr th:only-of-type {\n",
       "        vertical-align: middle;\n",
       "    }\n",
       "\n",
       "    .dataframe tbody tr th {\n",
       "        vertical-align: top;\n",
       "    }\n",
       "\n",
       "    .dataframe thead th {\n",
       "        text-align: right;\n",
       "    }\n",
       "</style>\n",
       "<table border=\"1\" class=\"dataframe\">\n",
       "  <thead>\n",
       "    <tr style=\"text-align: right;\">\n",
       "      <th></th>\n",
       "      <th>pop.class</th>\n",
       "      <th>popularity</th>\n",
       "      <th>valence</th>\n",
       "      <th>year</th>\n",
       "      <th>acousticness</th>\n",
       "      <th>danceability</th>\n",
       "      <th>duration</th>\n",
       "      <th>energy</th>\n",
       "      <th>instrumentalness</th>\n",
       "      <th>liveness</th>\n",
       "      <th>loudness</th>\n",
       "      <th>speechiness</th>\n",
       "      <th>tempo</th>\n",
       "      <th>key</th>\n",
       "      <th>mode</th>\n",
       "      <th>name</th>\n",
       "    </tr>\n",
       "  </thead>\n",
       "  <tbody>\n",
       "    <tr>\n",
       "      <th>161704</th>\n",
       "      <td>C</td>\n",
       "      <td>25</td>\n",
       "      <td>0.647</td>\n",
       "      <td>1975</td>\n",
       "      <td>0.4490</td>\n",
       "      <td>0.376</td>\n",
       "      <td>298840</td>\n",
       "      <td>0.827</td>\n",
       "      <td>0.007880</td>\n",
       "      <td>0.466</td>\n",
       "      <td>-7.604</td>\n",
       "      <td>0.3990</td>\n",
       "      <td>170.475</td>\n",
       "      <td>B</td>\n",
       "      <td>1</td>\n",
       "      <td>William Tell Overture</td>\n",
       "    </tr>\n",
       "    <tr>\n",
       "      <th>168077</th>\n",
       "      <td>B</td>\n",
       "      <td>42</td>\n",
       "      <td>0.150</td>\n",
       "      <td>2008</td>\n",
       "      <td>0.8990</td>\n",
       "      <td>0.508</td>\n",
       "      <td>236800</td>\n",
       "      <td>0.169</td>\n",
       "      <td>0.000011</td>\n",
       "      <td>0.136</td>\n",
       "      <td>-11.332</td>\n",
       "      <td>0.0553</td>\n",
       "      <td>107.477</td>\n",
       "      <td>Ab</td>\n",
       "      <td>1</td>\n",
       "      <td>Everything I Know</td>\n",
       "    </tr>\n",
       "    <tr>\n",
       "      <th>35922</th>\n",
       "      <td>A</td>\n",
       "      <td>65</td>\n",
       "      <td>0.423</td>\n",
       "      <td>2007</td>\n",
       "      <td>0.0185</td>\n",
       "      <td>0.470</td>\n",
       "      <td>301093</td>\n",
       "      <td>0.878</td>\n",
       "      <td>0.083900</td>\n",
       "      <td>0.276</td>\n",
       "      <td>-5.576</td>\n",
       "      <td>0.0377</td>\n",
       "      <td>150.093</td>\n",
       "      <td>B</td>\n",
       "      <td>0</td>\n",
       "      <td>Rest My Chemistry</td>\n",
       "    </tr>\n",
       "    <tr>\n",
       "      <th>135823</th>\n",
       "      <td>C</td>\n",
       "      <td>36</td>\n",
       "      <td>0.302</td>\n",
       "      <td>1995</td>\n",
       "      <td>0.0384</td>\n",
       "      <td>0.176</td>\n",
       "      <td>142200</td>\n",
       "      <td>0.980</td>\n",
       "      <td>0.552000</td>\n",
       "      <td>0.237</td>\n",
       "      <td>-3.154</td>\n",
       "      <td>0.0721</td>\n",
       "      <td>172.566</td>\n",
       "      <td>B</td>\n",
       "      <td>1</td>\n",
       "      <td>Stutter</td>\n",
       "    </tr>\n",
       "    <tr>\n",
       "      <th>165395</th>\n",
       "      <td>C</td>\n",
       "      <td>38</td>\n",
       "      <td>0.828</td>\n",
       "      <td>1994</td>\n",
       "      <td>0.5310</td>\n",
       "      <td>0.705</td>\n",
       "      <td>187800</td>\n",
       "      <td>0.625</td>\n",
       "      <td>0.000008</td>\n",
       "      <td>0.348</td>\n",
       "      <td>-11.963</td>\n",
       "      <td>0.0639</td>\n",
       "      <td>97.831</td>\n",
       "      <td>G</td>\n",
       "      <td>0</td>\n",
       "      <td>Wanna Do My Thing</td>\n",
       "    </tr>\n",
       "  </tbody>\n",
       "</table>\n",
       "</div>"
      ],
      "text/plain": [
       "       pop.class  popularity  valence  year  acousticness  danceability  \\\n",
       "161704         C          25    0.647  1975        0.4490         0.376   \n",
       "168077         B          42    0.150  2008        0.8990         0.508   \n",
       "35922          A          65    0.423  2007        0.0185         0.470   \n",
       "135823         C          36    0.302  1995        0.0384         0.176   \n",
       "165395         C          38    0.828  1994        0.5310         0.705   \n",
       "\n",
       "        duration  energy  instrumentalness  liveness  loudness  speechiness  \\\n",
       "161704    298840   0.827          0.007880     0.466    -7.604       0.3990   \n",
       "168077    236800   0.169          0.000011     0.136   -11.332       0.0553   \n",
       "35922     301093   0.878          0.083900     0.276    -5.576       0.0377   \n",
       "135823    142200   0.980          0.552000     0.237    -3.154       0.0721   \n",
       "165395    187800   0.625          0.000008     0.348   -11.963       0.0639   \n",
       "\n",
       "          tempo key  mode                   name  \n",
       "161704  170.475   B     1  William Tell Overture  \n",
       "168077  107.477  Ab     1      Everything I Know  \n",
       "35922   150.093   B     0      Rest My Chemistry  \n",
       "135823  172.566   B     1                Stutter  \n",
       "165395   97.831   G     0      Wanna Do My Thing  "
      ]
     },
     "execution_count": 22,
     "metadata": {},
     "output_type": "execute_result"
    }
   ],
   "source": [
    "songs = pd.read_csv('spotify-extr.txt', sep=' ')\n",
    "songs['name'] = pd.read_csv('spotify-names.txt', sep=r'\\s+', quotechar='\"', escapechar='\\\\')\n",
    "cols = songs.columns.tolist()\n",
    "print(cols)\n",
    "cols = [cols[14], cols[11]] + cols[0:7] + cols[8:10] + cols[12:14] + [cols[7], cols[10], cols[15]]\n",
    "songs = songs[cols]\n",
    "quant_cols = ['popularity', 'valence', 'year', 'acousticness', 'danceability', 'duration', \n",
    "              'energy', 'instrumentalness', 'liveness', 'loudness','speechiness', 'tempo']\n",
    "\n",
    "songs.head()"
   ]
  },
  {
   "cell_type": "markdown",
   "id": "false-bloom",
   "metadata": {},
   "source": [
    "# Exploratory statistics"
   ]
  },
  {
   "cell_type": "code",
   "execution_count": null,
   "id": "unsigned-circle",
   "metadata": {},
   "outputs": [],
   "source": []
  },
  {
   "cell_type": "markdown",
   "id": "primary-signal",
   "metadata": {},
   "source": [
    "# PCA"
   ]
  },
  {
   "cell_type": "code",
   "execution_count": null,
   "id": "threatened-violin",
   "metadata": {},
   "outputs": [],
   "source": []
  },
  {
   "cell_type": "markdown",
   "id": "signed-square",
   "metadata": {},
   "source": [
    "# Classification methods"
   ]
  },
  {
   "cell_type": "code",
   "execution_count": 77,
   "id": "established-thousand",
   "metadata": {},
   "outputs": [],
   "source": [
    "from sklearn.model_selection import train_test_split\n",
    "\n",
    "class_index = [0] + list(range(2,13))\n",
    "class_data = songs.iloc[:, class_index]\n",
    "\n",
    "test_prop = .25\n",
    "class_train, class_test = train_test_split(class_data, test_size=test_prop, stratify=class_data.iloc[:,0])\n",
    "y_class_train, X_class_train = class_train.iloc[:,0], class_train.iloc[:,1:]\n",
    "y_class_test, X_class_test = class_test.iloc[:,0], class_test.iloc[:,1:]"
   ]
  },
  {
   "cell_type": "code",
   "execution_count": 78,
   "id": "emotional-confidentiality",
   "metadata": {},
   "outputs": [
    {
     "data": {
      "text/html": [
       "<div>\n",
       "<style scoped>\n",
       "    .dataframe tbody tr th:only-of-type {\n",
       "        vertical-align: middle;\n",
       "    }\n",
       "\n",
       "    .dataframe tbody tr th {\n",
       "        vertical-align: top;\n",
       "    }\n",
       "\n",
       "    .dataframe thead th {\n",
       "        text-align: right;\n",
       "    }\n",
       "</style>\n",
       "<table border=\"1\" class=\"dataframe\">\n",
       "  <thead>\n",
       "    <tr style=\"text-align: right;\">\n",
       "      <th></th>\n",
       "      <th>valence</th>\n",
       "      <th>year</th>\n",
       "      <th>acousticness</th>\n",
       "      <th>danceability</th>\n",
       "      <th>duration</th>\n",
       "      <th>energy</th>\n",
       "      <th>instrumentalness</th>\n",
       "      <th>liveness</th>\n",
       "      <th>loudness</th>\n",
       "      <th>speechiness</th>\n",
       "      <th>tempo</th>\n",
       "    </tr>\n",
       "  </thead>\n",
       "  <tbody>\n",
       "    <tr>\n",
       "      <th>5505</th>\n",
       "      <td>0.7730</td>\n",
       "      <td>1949</td>\n",
       "      <td>0.8080</td>\n",
       "      <td>0.832</td>\n",
       "      <td>150387</td>\n",
       "      <td>0.44400</td>\n",
       "      <td>0.81900</td>\n",
       "      <td>0.0746</td>\n",
       "      <td>-8.129</td>\n",
       "      <td>0.0496</td>\n",
       "      <td>127.589</td>\n",
       "    </tr>\n",
       "    <tr>\n",
       "      <th>107928</th>\n",
       "      <td>0.0359</td>\n",
       "      <td>2016</td>\n",
       "      <td>0.9400</td>\n",
       "      <td>0.135</td>\n",
       "      <td>117368</td>\n",
       "      <td>0.00214</td>\n",
       "      <td>0.89700</td>\n",
       "      <td>0.0968</td>\n",
       "      <td>-37.424</td>\n",
       "      <td>0.0479</td>\n",
       "      <td>68.657</td>\n",
       "    </tr>\n",
       "    <tr>\n",
       "      <th>165497</th>\n",
       "      <td>0.2560</td>\n",
       "      <td>1994</td>\n",
       "      <td>0.8930</td>\n",
       "      <td>0.605</td>\n",
       "      <td>155400</td>\n",
       "      <td>0.04730</td>\n",
       "      <td>0.00678</td>\n",
       "      <td>0.1320</td>\n",
       "      <td>-19.284</td>\n",
       "      <td>0.0440</td>\n",
       "      <td>116.196</td>\n",
       "    </tr>\n",
       "    <tr>\n",
       "      <th>66172</th>\n",
       "      <td>0.1300</td>\n",
       "      <td>1975</td>\n",
       "      <td>0.0617</td>\n",
       "      <td>0.342</td>\n",
       "      <td>413390</td>\n",
       "      <td>0.41200</td>\n",
       "      <td>0.02150</td>\n",
       "      <td>0.3100</td>\n",
       "      <td>-11.353</td>\n",
       "      <td>0.0325</td>\n",
       "      <td>121.821</td>\n",
       "    </tr>\n",
       "    <tr>\n",
       "      <th>22481</th>\n",
       "      <td>0.3940</td>\n",
       "      <td>1938</td>\n",
       "      <td>0.9920</td>\n",
       "      <td>0.617</td>\n",
       "      <td>162615</td>\n",
       "      <td>0.16700</td>\n",
       "      <td>0.00000</td>\n",
       "      <td>0.2140</td>\n",
       "      <td>-10.576</td>\n",
       "      <td>0.0627</td>\n",
       "      <td>78.862</td>\n",
       "    </tr>\n",
       "    <tr>\n",
       "      <th>...</th>\n",
       "      <td>...</td>\n",
       "      <td>...</td>\n",
       "      <td>...</td>\n",
       "      <td>...</td>\n",
       "      <td>...</td>\n",
       "      <td>...</td>\n",
       "      <td>...</td>\n",
       "      <td>...</td>\n",
       "      <td>...</td>\n",
       "      <td>...</td>\n",
       "      <td>...</td>\n",
       "    </tr>\n",
       "    <tr>\n",
       "      <th>3755</th>\n",
       "      <td>0.2110</td>\n",
       "      <td>1940</td>\n",
       "      <td>0.8420</td>\n",
       "      <td>0.226</td>\n",
       "      <td>104839</td>\n",
       "      <td>0.24600</td>\n",
       "      <td>0.80400</td>\n",
       "      <td>0.3420</td>\n",
       "      <td>-18.471</td>\n",
       "      <td>0.0322</td>\n",
       "      <td>36.548</td>\n",
       "    </tr>\n",
       "    <tr>\n",
       "      <th>137760</th>\n",
       "      <td>0.8740</td>\n",
       "      <td>2004</td>\n",
       "      <td>0.7610</td>\n",
       "      <td>0.662</td>\n",
       "      <td>181720</td>\n",
       "      <td>0.84800</td>\n",
       "      <td>0.00000</td>\n",
       "      <td>0.3500</td>\n",
       "      <td>-5.144</td>\n",
       "      <td>0.0357</td>\n",
       "      <td>125.131</td>\n",
       "    </tr>\n",
       "    <tr>\n",
       "      <th>30673</th>\n",
       "      <td>0.4240</td>\n",
       "      <td>1980</td>\n",
       "      <td>0.0265</td>\n",
       "      <td>0.578</td>\n",
       "      <td>238293</td>\n",
       "      <td>0.85400</td>\n",
       "      <td>0.00141</td>\n",
       "      <td>0.1460</td>\n",
       "      <td>-6.558</td>\n",
       "      <td>0.0296</td>\n",
       "      <td>101.181</td>\n",
       "    </tr>\n",
       "    <tr>\n",
       "      <th>9980</th>\n",
       "      <td>0.7570</td>\n",
       "      <td>1971</td>\n",
       "      <td>0.1150</td>\n",
       "      <td>0.535</td>\n",
       "      <td>288093</td>\n",
       "      <td>0.59600</td>\n",
       "      <td>0.01830</td>\n",
       "      <td>0.0932</td>\n",
       "      <td>-12.033</td>\n",
       "      <td>0.0313</td>\n",
       "      <td>109.319</td>\n",
       "    </tr>\n",
       "    <tr>\n",
       "      <th>160238</th>\n",
       "      <td>0.6930</td>\n",
       "      <td>1968</td>\n",
       "      <td>0.1890</td>\n",
       "      <td>0.492</td>\n",
       "      <td>200627</td>\n",
       "      <td>0.90200</td>\n",
       "      <td>0.00000</td>\n",
       "      <td>0.3410</td>\n",
       "      <td>-5.079</td>\n",
       "      <td>0.0857</td>\n",
       "      <td>126.163</td>\n",
       "    </tr>\n",
       "  </tbody>\n",
       "</table>\n",
       "<p>7500 rows × 11 columns</p>\n",
       "</div>"
      ],
      "text/plain": [
       "        valence  year  acousticness  danceability  duration   energy  \\\n",
       "5505     0.7730  1949        0.8080         0.832    150387  0.44400   \n",
       "107928   0.0359  2016        0.9400         0.135    117368  0.00214   \n",
       "165497   0.2560  1994        0.8930         0.605    155400  0.04730   \n",
       "66172    0.1300  1975        0.0617         0.342    413390  0.41200   \n",
       "22481    0.3940  1938        0.9920         0.617    162615  0.16700   \n",
       "...         ...   ...           ...           ...       ...      ...   \n",
       "3755     0.2110  1940        0.8420         0.226    104839  0.24600   \n",
       "137760   0.8740  2004        0.7610         0.662    181720  0.84800   \n",
       "30673    0.4240  1980        0.0265         0.578    238293  0.85400   \n",
       "9980     0.7570  1971        0.1150         0.535    288093  0.59600   \n",
       "160238   0.6930  1968        0.1890         0.492    200627  0.90200   \n",
       "\n",
       "        instrumentalness  liveness  loudness  speechiness    tempo  \n",
       "5505             0.81900    0.0746    -8.129       0.0496  127.589  \n",
       "107928           0.89700    0.0968   -37.424       0.0479   68.657  \n",
       "165497           0.00678    0.1320   -19.284       0.0440  116.196  \n",
       "66172            0.02150    0.3100   -11.353       0.0325  121.821  \n",
       "22481            0.00000    0.2140   -10.576       0.0627   78.862  \n",
       "...                  ...       ...       ...          ...      ...  \n",
       "3755             0.80400    0.3420   -18.471       0.0322   36.548  \n",
       "137760           0.00000    0.3500    -5.144       0.0357  125.131  \n",
       "30673            0.00141    0.1460    -6.558       0.0296  101.181  \n",
       "9980             0.01830    0.0932   -12.033       0.0313  109.319  \n",
       "160238           0.00000    0.3410    -5.079       0.0857  126.163  \n",
       "\n",
       "[7500 rows x 11 columns]"
      ]
     },
     "execution_count": 78,
     "metadata": {},
     "output_type": "execute_result"
    }
   ],
   "source": [
    "X_class_train"
   ]
  },
  {
   "cell_type": "markdown",
   "id": "vulnerable-cycle",
   "metadata": {},
   "source": [
    "## Logistic regression"
   ]
  },
  {
   "cell_type": "code",
   "execution_count": 79,
   "id": "double-cassette",
   "metadata": {},
   "outputs": [
    {
     "data": {
      "text/plain": [
       "LogisticRegressionCV()"
      ]
     },
     "execution_count": 79,
     "metadata": {},
     "output_type": "execute_result"
    }
   ],
   "source": [
    "from sklearn.linear_model import LogisticRegression\n",
    "from sklearn.linear_model import LogisticRegressionCV\n",
    "from sklearn.metrics import confusion_matrix\n",
    "\n",
    "log_reg = LogisticRegressionCV()\n",
    "log_reg.fit(X_class_train, y_class_train)"
   ]
  },
  {
   "cell_type": "code",
   "execution_count": 80,
   "id": "dated-finland",
   "metadata": {},
   "outputs": [
    {
     "data": {
      "text/plain": [
       "<matplotlib.image.AxesImage at 0x12ebc9760>"
      ]
     },
     "execution_count": 80,
     "metadata": {},
     "output_type": "execute_result"
    },
    {
     "data": {
      "image/png": "[encoded data removed]",
      "text/plain": [
       "<Figure size 432x288 with 1 Axes>"
      ]
     },
     "metadata": {
      "needs_background": "light"
     },
     "output_type": "display_data"
    }
   ],
   "source": [
    "plt.imshow(log_reg.coef_)\n",
    "plt."
   ]
  },
  {
   "cell_type": "code",
   "execution_count": 81,
   "id": "correct-kansas",
   "metadata": {},
   "outputs": [
    {
     "data": {
      "text/plain": [
       "array([[  0,  24,  47, 170],\n",
       "       [  0, 124, 156, 441],\n",
       "       [  0, 154, 130, 458],\n",
       "       [  0, 100,  46, 650]])"
      ]
     },
     "execution_count": 81,
     "metadata": {},
     "output_type": "execute_result"
    }
   ],
   "source": [
    "pred = log_reg.predict(X_class_test)\n",
    "confusion_matrix(y_class_test, pred)"
   ]
  },
  {
   "cell_type": "code",
   "execution_count": 72,
   "id": "wired-context",
   "metadata": {},
   "outputs": [
    {
     "ename": "SyntaxError",
     "evalue": "invalid syntax (<ipython-input-72-0a17bd2a5bb8>, line 1)",
     "output_type": "error",
     "traceback": [
      "\u001b[0;36m  File \u001b[0;32m\"<ipython-input-72-0a17bd2a5bb8>\"\u001b[0;36m, line \u001b[0;32m1\u001b[0m\n\u001b[0;31m    pd.(pred)\u001b[0m\n\u001b[0m       ^\u001b[0m\n\u001b[0;31mSyntaxError\u001b[0m\u001b[0;31m:\u001b[0m invalid syntax\n"
     ]
    }
   ],
   "source": []
  },
  {
   "cell_type": "markdown",
   "id": "prescribed-temperature",
   "metadata": {},
   "source": [
    "## SVM"
   ]
  },
  {
   "cell_type": "code",
   "execution_count": null,
   "id": "modular-consultancy",
   "metadata": {},
   "outputs": [],
   "source": []
  },
  {
   "cell_type": "markdown",
   "id": "searching-democrat",
   "metadata": {},
   "source": [
    "# Neural net"
   ]
  },
  {
   "cell_type": "code",
   "execution_count": 1,
   "id": "conventional-aquatic",
   "metadata": {},
   "outputs": [],
   "source": [
    "from tensorflow import keras"
   ]
  },
  {
   "cell_type": "code",
   "execution_count": 2,
   "id": "graphic-buddy",
   "metadata": {},
   "outputs": [],
   "source": [
    "nn_model = keras.models.load_model('/Users/aleksandercs/Documents/INSA/GMM4/Semestre2/Machine learning/spotifyProjet_personal/model1.h5')"
   ]
  },
  {
   "cell_type": "code",
   "execution_count": 5,
   "id": "soviet-small",
   "metadata": {},
   "outputs": [
    {
     "name": "stdout",
     "output_type": "stream",
     "text": [
      "None\n"
     ]
    }
   ],
   "source": [
    "print(nn_model)"
   ]
  }
 ],
 "metadata": {
  "kernelspec": {
   "display_name": "Python 3",
   "language": "python",
   "name": "python3"
  },
  "language_info": {
   "codemirror_mode": {
    "name": "ipython",
    "version": 3
   },
   "file_extension": ".py",
   "mimetype": "text/x-python",
   "name": "python",
   "nbconvert_exporter": "python",
   "pygments_lexer": "ipython3",
   "version": "3.8.7"
  }
 },
 "nbformat": 4,
 "nbformat_minor": 5
}
